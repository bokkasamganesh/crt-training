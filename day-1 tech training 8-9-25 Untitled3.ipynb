{
 "cells": [
  {
   "cell_type": "code",
   "execution_count": 9,
   "id": "542e3515-be48-4e95-b64b-37f5e6a3756c",
   "metadata": {},
   "outputs": [
    {
     "name": "stdin",
     "output_type": "stream",
     "text": [
      "Enter an integer:  56\n"
     ]
    },
    {
     "name": "stdout",
     "output_type": "stream",
     "text": [
      "56 is a two-digit number.\n"
     ]
    }
   ],
   "source": [
    "#write the python program to read the integer as input from the user and check whether it is a two digit number or not two digit number?\n",
    "    number = int(input(\"Enter an integer: \"))\n",
    "    \n",
    "    if 10 <= number <= 99 or -99 <= number <= -10:\n",
    "        print(f\"{number} is a two-digit number.\")\n",
    "    else:\n",
    "        print(f\"{number} is not a two-digit number.\")\n"
   ]
  },
  {
   "cell_type": "code",
   "execution_count": null,
   "id": "1537af9a-2f90-4027-aab7-84901fea6c38",
   "metadata": {},
   "outputs": [],
   "source": [
    "num=int(input('enter the integer"
   ]
  },
  {
   "cell_type": "code",
   "execution_count": 2,
   "id": "a9662fcf-fd45-488d-92a6-71aaab6e3c4e",
   "metadata": {},
   "outputs": [
    {
     "name": "stdin",
     "output_type": "stream",
     "text": [
      "Enter the first num 4\n",
      "Enter the second num 5\n"
     ]
    },
    {
     "name": "stdout",
     "output_type": "stream",
     "text": [
      "summation : 9\n"
     ]
    }
   ],
   "source": [
    "num1=int(input('Enter the first num'))\n",
    "num2=int(input('Enter the second num'))\n",
    "print(f\"summation : {num1+num2}\")"
   ]
  },
  {
   "cell_type": "code",
   "execution_count": 8,
   "id": "ad3fbc56-ab10-4ca8-8282-7143e133a918",
   "metadata": {},
   "outputs": [
    {
     "name": "stdin",
     "output_type": "stream",
     "text": [
      "enter the integer : 3\n"
     ]
    },
    {
     "name": "stdout",
     "output_type": "stream",
     "text": [
      "digit\n"
     ]
    }
   ],
   "source": [
    "num=int(input('enter the integer :'))\n",
    "#if-else\n",
    "if(num>=-9 and num<=9):\n",
    "    print(\"digit\")\n",
    "else:\n",
    "    print(\"Number\")\n",
    "    #ternary operator\n",
    "    res=\"Digit\" if (num>=-9 and num<=-9) else \"number\"\n",
    "    print(res)"
   ]
  },
  {
   "cell_type": "code",
   "execution_count": 17,
   "id": "1c552d5b-d62a-4164-8d2d-912244aa5bf0",
   "metadata": {},
   "outputs": [
    {
     "name": "stdin",
     "output_type": "stream",
     "text": [
      "Enter an integer:  1234\n"
     ]
    },
    {
     "name": "stdout",
     "output_type": "stream",
     "text": [
      "1234 is not a three-digit number.\n"
     ]
    }
   ],
   "source": [
    "# write a python program to read an interger as inout from the user & check whether it is a three digit number or not?\n",
    "\n",
    "number = int(input(\"Enter an integer: \"))\n",
    "    \n",
    "   \n",
    "if 100 <= number <= 999 or -999 <= number <= -100:\n",
    "        print(f\"{number} is a three-digit number.\")\n",
    "else:\n",
    "         print(f\"{number} is not a three-digit number.\")\n",
    "        "
   ]
  },
  {
   "cell_type": "code",
   "execution_count": 19,
   "id": "7a152bf0-da56-4a2d-a473-36334c4996fa",
   "metadata": {},
   "outputs": [
    {
     "name": "stdin",
     "output_type": "stream",
     "text": [
      "Enter an integer:  1234\n"
     ]
    },
    {
     "name": "stdout",
     "output_type": "stream",
     "text": [
      "1234 is a four-digit number.\n"
     ]
    }
   ],
   "source": [
    "#write a python program to read an integer as input from the user & check whether it is a four digit number or not?\n",
    "number = int(input(\"Enter an integer: \"))\n",
    "    \n",
    "   \n",
    "if 1000 <= number <= 9999 or -9999 <= number <= -1000:\n",
    "        print(f\"{number} is a four-digit number.\")\n",
    "else:\n",
    "         print(f\"{number} is not a four-digit number.\")"
   ]
  },
  {
   "cell_type": "code",
   "execution_count": 20,
   "id": "d972995c-6ec2-4850-a89f-ac50a284b6df",
   "metadata": {},
   "outputs": [
    {
     "name": "stdin",
     "output_type": "stream",
     "text": [
      "Enter first integer:  2\n",
      "Enter second integer:  2\n"
     ]
    },
    {
     "name": "stdout",
     "output_type": "stream",
     "text": [
      "\n",
      "Numbers entered: 2 and 2\n",
      "----------------------------------------\n",
      "Method 1: Using if-else statement\n",
      "Both numbers are equal\n",
      "----------------------------------------\n",
      "Method 2: Using ternary operator\n",
      "Both numbers are equal\n",
      "----------------------------------------\n",
      "Method 3: Using nested ternary operator\n",
      "Both numbers are equal\n"
     ]
    }
   ],
   "source": [
    "#write the python program to read two integre values as input fron the user find the largest number using if else ternary operator as both\n",
    "\n",
    "# Program to find the largest of two numbers using if-else and ternary operator\n",
    "\n",
    "try:\n",
    "    # Get two integer inputs from user\n",
    "    num1 = int(input(\"Enter first integer: \"))\n",
    "    num2 = int(input(\"Enter second integer: \"))\n",
    "    \n",
    "    print(f\"\\nNumbers entered: {num1} and {num2}\")\n",
    "    print(\"-\" * 40)\n",
    "    \n",
    "    # Method 1: Using if-else statement\n",
    "    print(\"Method 1: Using if-else statement\")\n",
    "    if num1 > num2:\n",
    "        largest_ifelse = num1\n",
    "        print(f\"The largest number is: {largest_ifelse}\")\n",
    "    elif num2 > num1:\n",
    "        largest_ifelse = num2\n",
    "        print(f\"The largest number is: {largest_ifelse}\")\n",
    "    else:\n",
    "        print(\"Both numbers are equal\")\n",
    "    \n",
    "    print(\"-\" * 40)\n",
    "    \n",
    "    # Method 2: Using ternary operator\n",
    "    print(\"Method 2: Using ternary operator\")\n",
    "    largest_ternary = num1 if num1 > num2 else num2\n",
    "    \n",
    "    if num1 == num2:\n",
    "        print(\"Both numbers are equal\")\n",
    "    else:\n",
    "        print(f\"The largest number is: {largest_ternary}\")\n",
    "    \n",
    "    print(\"-\" * 40)\n",
    "    \n",
    "    # Method 3: Using nested ternary operator (advanced)\n",
    "    print(\"Method 3: Using nested ternary operator\")\n",
    "    result = \"Both numbers are equal\" if num1 == num2 else f\"The largest number is: {num1 if num1 > num2 else num2}\"\n",
    "    print(result)\n",
    "    \n",
    "except ValueError:\n",
    "    print(\"Please enter valid integers!\")"
   ]
  },
  {
   "cell_type": "code",
   "execution_count": 21,
   "id": "4d8f89b7-09ad-4180-9983-6289c1fa812a",
   "metadata": {},
   "outputs": [
    {
     "name": "stdin",
     "output_type": "stream",
     "text": [
      "Enter first integer:  4\n",
      "Enter second integer:  6\n"
     ]
    },
    {
     "name": "stdout",
     "output_type": "stream",
     "text": [
      "6 is largest number.\n",
      "6 is largest number.\n"
     ]
    }
   ],
   "source": [
    "#write the python program to read two integre values as input fron the user find the largest number using if else ternary operator as both\n",
    "\n",
    "num1 = int(input(\"Enter first integer: \"))\n",
    "num2 = int(input(\"Enter second integer: \"))\n",
    "#if-else\n",
    "if (num>num2):\n",
    "    print(f\"{num1} is largest number.\")\n",
    "else:\n",
    "    print(f\"{num2} is largest number.\")\n",
    "    #ternary operator\n",
    "    res=num1 if (num1>num2) else num2\n",
    "    print(f\"{res} is largest number.\")"
   ]
  },
  {
   "cell_type": "code",
   "execution_count": 17,
   "id": "20e193e3-0be3-4817-9c2a-316e8c4a089d",
   "metadata": {},
   "outputs": [
    {
     "name": "stdin",
     "output_type": "stream",
     "text": [
      "Enter first integer:  1\n",
      "Enter second integer:  3\n"
     ]
    },
    {
     "name": "stdout",
     "output_type": "stream",
     "text": [
      "1 is smallest number.\n"
     ]
    }
   ],
   "source": [
    "# write a python program to read two interger values as input from the user and find the smallest number?\n",
    "num1 = int(input(\"Enter first integer: \"))\n",
    "num2 = int(input(\"Enter second integer: \"))\n",
    "#if-else\n",
    "if (num1<num2):\n",
    "    print(f\"{num1} is smallest number.\")\n",
    "else:\n",
    "    print(f\"{num2} is smallest number.\")\n",
    "    #ternary operator\n",
    "    res=num1 if (num1<num2) else num1\n",
    "    print(f\"{res} is smallest number.\")"
   ]
  },
  {
   "cell_type": "code",
   "execution_count": 12,
   "id": "5ea25084-28b7-4ff9-be50-e9423485c218",
   "metadata": {},
   "outputs": [
    {
     "name": "stdin",
     "output_type": "stream",
     "text": [
      "Enter first integer:  1\n",
      "Enter second integer:  2\n",
      "Enter third integer:  3\n"
     ]
    },
    {
     "name": "stdout",
     "output_type": "stream",
     "text": [
      "3 is largest number.\n"
     ]
    }
   ],
   "source": [
    "#write a python program to read three integer values as input from the user and find the largest number?\n",
    "num1 = int(input(\"Enter first integer: \"))\n",
    "num2 = int(input(\"Enter second integer: \"))\n",
    "num3 = int(input(\"Enter third integer: \"))\n",
    "#if-else\n",
    "if (num1>num2 and num1>num3):\n",
    "    print(f\"{num1} is largest number.\")\n",
    "elif(num2>num1 and num2>num3):\n",
    "    \n",
    "    print(f\"{num2} is largest number.\")\n",
    "else:\n",
    "    print(f\"{num3} is largest number.\")"
   ]
  },
  {
   "cell_type": "code",
   "execution_count": 14,
   "id": "eee956be-e62b-44af-b127-2cbba80ce7dc",
   "metadata": {},
   "outputs": [
    {
     "name": "stdin",
     "output_type": "stream",
     "text": [
      "Enter first integer:  1\n",
      "Enter second integer:  4\n",
      "Enter third integer:  2\n"
     ]
    },
    {
     "name": "stdout",
     "output_type": "stream",
     "text": [
      "4 is the largest number\n"
     ]
    }
   ],
   "source": [
    "#write a python program to read three integer values as input from the user and find the largest number?\n",
    "num1 = int(input(\"Enter first integer: \"))\n",
    "num2 = int(input(\"Enter second integer: \"))\n",
    "num3 = int(input(\"Enter third integer: \"))\n",
    "#if-else\n",
    "largest=num1 if(num1>num2 and num1>num3) else num2\n",
    "res=num3 if(num3>num2 and num3>num2) else largest\n",
    "print(f\"{res} is the largest number\")"
   ]
  },
  {
   "cell_type": "code",
   "execution_count": 15,
   "id": "6e26ca81-7313-47dd-bd5b-b7c0d28c7ba4",
   "metadata": {},
   "outputs": [
    {
     "name": "stdin",
     "output_type": "stream",
     "text": [
      "Enter first integer:  1\n",
      "Enter second integer:  5\n",
      "Enter third integer:  3\n"
     ]
    },
    {
     "name": "stdout",
     "output_type": "stream",
     "text": [
      "1 is smallest number.\n"
     ]
    }
   ],
   "source": [
    "#write the python program to read three integer values as input from the user find the smallest number using bothif else and ternary\n",
    "num1 = int(input(\"Enter first integer: \"))\n",
    "num2 = int(input(\"Enter second integer: \"))\n",
    "num3 = int(input(\"Enter third integer: \"))\n",
    "#if-else\n",
    "if (num1<num2 and num1<num3):\n",
    "    print(f\"{num1} is smallest number.\")\n",
    "elif(num2<num1 and num2<num3):\n",
    "    \n",
    "    print(f\"{num2} is smallest number.\")\n",
    "else:\n",
    "    print(f\"{num3} is smallest number.\")"
   ]
  },
  {
   "cell_type": "code",
   "execution_count": 26,
   "id": "580c9017-bd03-401c-b249-4d3cc66d9b71",
   "metadata": {},
   "outputs": [
    {
     "name": "stdin",
     "output_type": "stream",
     "text": [
      "Enter first integer:  1\n",
      "Enter second integer:  6\n",
      "Enter third integer:  3\n"
     ]
    },
    {
     "name": "stdout",
     "output_type": "stream",
     "text": [
      "3 is middle number.\n"
     ]
    }
   ],
   "source": [
    "# write a python program to read three integer values as input from the user and find the middle number using if else and ternary operator\n",
    "num1 = int(input(\"Enter first integer: \"))\n",
    "num2 = int(input(\"Enter second integer: \"))\n",
    "num3 = int(input(\"Enter third integer: \"))\n",
    "#if-else\n",
    "if (num1<num2 and num1>num3):\n",
    "    print(f\"{num1} is middle number.\")\n",
    "elif(num2<num1 and num2>num3):\n",
    "    \n",
    "    print(f\"{num2} is middle number.\")\n",
    "else:\n",
    "    print(f\"{num3} is middle number.\")"
   ]
  },
  {
   "cell_type": "code",
   "execution_count": 25,
   "id": "0c50b377-b89f-466f-aad6-08397de769a8",
   "metadata": {},
   "outputs": [
    {
     "name": "stdin",
     "output_type": "stream",
     "text": [
      "Enter first integer:  5\n",
      "Enter second integer:  12\n",
      "Enter third integer:  6\n"
     ]
    },
    {
     "name": "stdout",
     "output_type": "stream",
     "text": [
      "num3 is middle\n"
     ]
    }
   ],
   "source": [
    "num1 = int(input(\"Enter first integer: \"))\n",
    "num2 = int(input(\"Enter second integer: \"))\n",
    "num3 = int(input(\"Enter third integer: \"))\n",
    "if (num1>num2 and num1<num3):\n",
    "    print(\"num1 is middle\")\n",
    "elif(num2>num1 and num2<num3):\n",
    "    print(\"num2 is middle\")\n",
    "else:\n",
    "    print(\"num3 is middle\")\n",
    "mid=num1 if (num1>num2 and num1<num2) else num2"
   ]
  },
  {
   "cell_type": "code",
   "execution_count": 27,
   "id": "12613df2-cb57-4e9c-a570-72b5b89aac49",
   "metadata": {},
   "outputs": [
    {
     "name": "stdin",
     "output_type": "stream",
     "text": [
      "Enter month number (1-12):  1\n"
     ]
    },
    {
     "name": "stdout",
     "output_type": "stream",
     "text": [
      "Month 1 is VALID\n"
     ]
    }
   ],
   "source": [
    "#write a python program to read the month number as input from the user and check whether it is a valid  month number or not?\n",
    "# Program to check if a month number is valid\n",
    "\n",
    "try:\n",
    "    month = int(input(\"Enter month number (1-12): \"))\n",
    "    \n",
    "    if 1 <= month <= 12:\n",
    "        print(f\"Month {month} is VALID\")\n",
    "    else:\n",
    "        print(f\"Month {month} is INVALID\")\n",
    "        "
   ]
  },
  {
   "cell_type": "code",
   "execution_count": 34,
   "id": "10733bac-aad6-462a-aa46-2cdd6c377485",
   "metadata": {},
   "outputs": [
    {
     "name": "stdin",
     "output_type": "stream",
     "text": [
      "Enter the mnth number : 2\n"
     ]
    },
    {
     "name": "stdout",
     "output_type": "stream",
     "text": [
      "28or 29 days\n"
     ]
    }
   ],
   "source": [
    "#write a python program to read the month number as input from the user and print the respective number of days present that perticular month?\n",
    "\n",
    "m=int(input('Enter the mnth number :'))\n",
    "if(m==1 or m==3 or m==5 or m==7 or m==8 or m==10 or m==12):\n",
    "    print('31days')\n",
    "elif(m==2):\n",
    "    print('28or 29 days')\n",
    "elif(m==4 or m==6 or m==9 or m==11):\n",
    "    print('30days')\n",
    "else:\n",
    "    print('invalid month number')"
   ]
  },
  {
   "cell_type": "code",
   "execution_count": 40,
   "id": "0093c2a2-48cb-44f2-bc30-0cd1e1e3d9fa",
   "metadata": {},
   "outputs": [
    {
     "name": "stdin",
     "output_type": "stream",
     "text": [
      "Enter your age:  21\n"
     ]
    },
    {
     "name": "stdout",
     "output_type": "stream",
     "text": [
      "You are ELIGIBLE to vote!\n"
     ]
    }
   ],
   "source": [
    "# write a python program to check whether the user entered age the eligible to vote or not?\n",
    "\n",
    "age = int(input(\"Enter your age: \"))\n",
    "    \n",
    "if age >= 18:\n",
    "        print(\"You are ELIGIBLE to vote!\")\n",
    "else:\n",
    "        print(\"You are NOT ELIGIBLE to vote.\")\n",
    "        "
   ]
  },
  {
   "cell_type": "code",
   "execution_count": 43,
   "id": "dcd927c8-d28d-4a06-b961-2391c8e39ffd",
   "metadata": {},
   "outputs": [
    {
     "name": "stdin",
     "output_type": "stream",
     "text": [
      "Enter an integer:  5\n"
     ]
    },
    {
     "name": "stdout",
     "output_type": "stream",
     "text": [
      "5 is ODD\n"
     ]
    }
   ],
   "source": [
    "#write  the python program to read interger value as input from the user and check whether it is even or odd?\n",
    "\n",
    "\n",
    "number = int(input(\"Enter an integer: \"))\n",
    "    \n",
    "if number % 2 == 0:\n",
    "        print(f\"{number} is EVEN\")\n",
    "else:\n",
    "        print(f\"{number} is ODD\")"
   ]
  },
  {
   "cell_type": "code",
   "execution_count": 49,
   "id": "c43991f2-138e-43dd-8b87-95036e13b33c",
   "metadata": {},
   "outputs": [
    {
     "name": "stdin",
     "output_type": "stream",
     "text": [
      "Enter an integer:  9\n"
     ]
    },
    {
     "name": "stdout",
     "output_type": "stream",
     "text": [
      "fizz\n"
     ]
    }
   ],
   "source": [
    "#write the python program to read integer value as input from the user and check whether it is multiple of three and five or not?\n",
    "\n",
    "number = int(input(\"Enter an integer: \"))\n",
    "    \n",
    "if number % 3 == 0 and number % 5 == 0:\n",
    "        print( \"fizzbuzz\")\n",
    "elif number % 3 ==0:\n",
    "    print('fizz')\n",
    "else:\n",
    "        print( \"buzz\")\n",
    "        "
   ]
  },
  {
   "cell_type": "code",
   "execution_count": null,
   "id": "4b5992c1-2a5e-4801-82f1-73d5e92890dc",
   "metadata": {},
   "outputs": [],
   "source": [
    "#write a python program to read an integer value as input and print fizzbuzz divisible by 3 & 5 and fizz is divisible 3 and buzz is divisible by 5?\n",
    "\n"
   ]
  },
  {
   "cell_type": "code",
   "execution_count": 51,
   "id": "b6dd574e-75fe-42c4-b6aa-16ecfe1d75ff",
   "metadata": {},
   "outputs": [
    {
     "name": "stdin",
     "output_type": "stream",
     "text": [
      "Enter amount: ₹ 1234\n"
     ]
    },
    {
     "name": "stdout",
     "output_type": "stream",
     "text": [
      "₹2000: 0, ₹500: 2, ₹200: 1\n",
      "₹100: 0, ₹50: 0, ₹20: 1\n",
      "₹10: 1, ₹5: 0, ₹2: 2, ₹1: 0\n",
      "Total notes: 7\n"
     ]
    }
   ],
   "source": [
    "#write the python program to read amount input from the user and print number of nodes requried in indian curreny dimension?dont use looping and conditional statements ? and also the code less than 20 lines?\n",
    "\n",
    "\n",
    "\n",
    "amount = int(input(\"Enter amount: ₹\"))\n",
    "\n",
    "notes_2000 = amount // 2000; amount %= 2000\n",
    "notes_500 = amount // 500; amount %= 500  \n",
    "notes_200 = amount // 200; amount %= 200\n",
    "notes_100 = amount // 100; amount %= 100\n",
    "notes_50 = amount // 50; amount %= 50\n",
    "notes_20 = amount // 20; amount %= 20\n",
    "notes_10 = amount // 10; amount %= 10\n",
    "notes_5 = amount // 5; amount %= 5\n",
    "notes_2 = amount // 2; amount %= 2\n",
    "notes_1 = amount // 1; amount %=1\n",
    "\n",
    "print(f\"₹2000: {notes_2000}, ₹500: {notes_500}, ₹200: {notes_200}\")\n",
    "print(f\"₹100: {notes_100}, ₹50: {notes_50}, ₹20: {notes_20}\")\n",
    "print(f\"₹10: {notes_10}, ₹5: {notes_5}, ₹2: {notes_2}, ₹1: {notes_1}\")\n",
    "print(f\"Total notes: {notes_2000+notes_500+notes_200+notes_100+notes_50+notes_20+notes_10+notes_5+notes_2+notes_1}\")\n",
    "\n"
   ]
  },
  {
   "cell_type": "code",
   "execution_count": 52,
   "id": "8e449378-16d1-4389-a751-349a748e0b5c",
   "metadata": {},
   "outputs": [
    {
     "name": "stdin",
     "output_type": "stream",
     "text": [
      "Enter the amount : 4321\n"
     ]
    },
    {
     "name": "stdout",
     "output_type": "stream",
     "text": [
      "500------>8\n",
      "500------>1\n",
      "500------>1\n",
      "500------>0\n",
      "500------>2\n",
      "500------>0\n",
      "500------>0\n",
      "500------>1\n"
     ]
    }
   ],
   "source": [
    "#write the python program to read amount input from the user and print number of nodes requried in indian curreny dimension?dont use looping and conditional statements ? and also the code less than 20 lines?\n",
    "\n",
    "\n",
    "amount=int(input('Enter the amount :'))\n",
    "print(f\"500------>{amount//500}\")\n",
    "amount=amount%500\n",
    "print(f\"500------>{amount//200}\")\n",
    "amount=amount%200\n",
    "print(f\"500------>{amount//100}\")\n",
    "amount=amount%100\n",
    "print(f\"500------>{amount//50}\")\n",
    "amount=amount%50\n",
    "print(f\"500------>{amount//10}\")\n",
    "amount=amount%10\n",
    "print(f\"500------>{amount//5}\")\n",
    "amount=amount%5\n",
    "print(f\"500------>{amount//2}\")\n",
    "amount=amount%2\n",
    "print(f\"500------>{amount//1}\")\n",
    "amount=amount%1"
   ]
  },
  {
   "cell_type": "code",
   "execution_count": null,
   "id": "4eb8d7bd-010c-4356-8356-5fc6672ad847",
   "metadata": {},
   "outputs": [],
   "source": []
  }
 ],
 "metadata": {
  "kernelspec": {
   "display_name": "Python 3 (ipykernel)",
   "language": "python",
   "name": "python3"
  },
  "language_info": {
   "codemirror_mode": {
    "name": "ipython",
    "version": 3
   },
   "file_extension": ".py",
   "mimetype": "text/x-python",
   "name": "python",
   "nbconvert_exporter": "python",
   "pygments_lexer": "ipython3",
   "version": "3.12.7"
  }
 },
 "nbformat": 4,
 "nbformat_minor": 5
}
