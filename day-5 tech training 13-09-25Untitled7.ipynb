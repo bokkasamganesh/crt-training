{
 "cells": [
  {
   "cell_type": "markdown",
   "id": "64d62484-ed2b-4270-8cc9-811e290f1d8c",
   "metadata": {},
   "source": [
    "### string methods"
   ]
  },
  {
   "cell_type": "code",
   "execution_count": 1,
   "id": "d0875d2c-381f-460e-954b-2cf3dde2cdb9",
   "metadata": {},
   "outputs": [
    {
     "name": "stdin",
     "output_type": "stream",
     "text": [
      "enter the string : poiuytrewWERTYUIOPPIUYyuiopp\n"
     ]
    },
    {
     "name": "stdout",
     "output_type": "stream",
     "text": [
      "poiuytrewWERTYUIOPPIUYyuiopp\n",
      "POIUYTREWWERTYUIOPPIUYYUIOPP\n",
      "POIUYTREWwertyuioppiuyYUIOPP\n"
     ]
    }
   ],
   "source": [
    "string=input('enter the string :')\n",
    "print(string)\n",
    "print(string.upper())\n",
    "print(string.swapcase())"
   ]
  },
  {
   "cell_type": "code",
   "execution_count": 9,
   "id": "e127e728-2613-4608-912c-04e695fb6828",
   "metadata": {},
   "outputs": [
    {
     "name": "stdin",
     "output_type": "stream",
     "text": [
      "enter your name : ganesh\n"
     ]
    },
    {
     "name": "stdout",
     "output_type": "stream",
     "text": [
      "length of name: 6\n",
      "more than 5 characters\n"
     ]
    }
   ],
   "source": [
    "#write apython program to read a name of the user and print the length of the name and check if it is more five letters\n",
    "name=input('enter your name :')\n",
    "print(\"length of name:\",len(name))\n",
    "res=\"more than 5 characters\" if(len(name)>5) else \"it is not more than five characters\"\n",
    "print(res)\n",
    "      "
   ]
  },
  {
   "cell_type": "code",
   "execution_count": null,
   "id": "f6ccc70c-919a-4154-8045-55107544d592",
   "metadata": {},
   "outputs": [],
   "source": [
    "# write a python program to check if the the user entered name has the cheracter a or not\n"
   ]
  },
  {
   "cell_type": "code",
   "execution_count": 13,
   "id": "7401f287-622c-48fb-b0e7-cc818df8eeca",
   "metadata": {},
   "outputs": [
    {
     "name": "stdin",
     "output_type": "stream",
     "text": [
      "enter the string :  G@ni009\n"
     ]
    },
    {
     "name": "stdout",
     "output_type": "stream",
     "text": [
      "count of alphabetic character is 1\n",
      "count of digit is 0\n",
      "count of special characters is 1\n"
     ]
    }
   ],
   "source": [
    "#write a Python program to check how many alphabets and how many numbers, and how many characters the user entered list\n",
    "string=input('enter the string : ')\n",
    "alphabet,digit,specialchar=0,0,0\n",
    "for ch in string:\n",
    "    if ch.isalpha():\n",
    "        alphabet+=1\n",
    "    elif ch.isdigit():\n",
    "        digit+=1\n",
    "    else:\n",
    "        specialchar+=1\n",
    "        print(f\"count of alphabetic character is {alphabet}\")\n",
    "        print(f\"count of digit is {digit}\")\n",
    "        print(f\"count of special characters is {specialchar}\")"
   ]
  },
  {
   "cell_type": "code",
   "execution_count": 16,
   "id": "7c18ab77-89e8-4cc4-bfd7-3a8b09bba358",
   "metadata": {},
   "outputs": [
    {
     "name": "stdin",
     "output_type": "stream",
     "text": [
      "enter the string :  aesd\n"
     ]
    },
    {
     "name": "stdout",
     "output_type": "stream",
     "text": [
      "vowel count is 2\n",
      "consonent count is 1\n",
      "vowel count is 2\n",
      "consonent count is 2\n"
     ]
    }
   ],
   "source": [
    "#to check the count of vowels and consonants\n",
    "string=input('enter the string : ').lower()\n",
    "vowel,consonant=0,0\n",
    "for ch in string:\n",
    "    if ch.isalpha():\n",
    "        if ch in \"aeiou\":\n",
    "            vowel+=1\n",
    "        else:\n",
    "            consonant+=1\n",
    "            print(f\"vowel count is {vowel}\")\n",
    "            print(f\"consonent count is {consonant}\")\n"
   ]
  },
  {
   "cell_type": "code",
   "execution_count": 26,
   "id": "0cdd43d2-4724-4ca2-bf25-4174fd0f731b",
   "metadata": {},
   "outputs": [
    {
     "name": "stdout",
     "output_type": "stream",
     "text": [
      "python\n",
      "thon\n",
      "ptopormig\n",
      "yhnrgamn\n",
      "program\n"
     ]
    }
   ],
   "source": [
    "str=(\"pythonprogramming\")\n",
    "print(str[:6])\n",
    "print(str[2:6])\n",
    "print(str[0::2])\n",
    "print(str[1::2])\n",
    "print(str[6:13])"
   ]
  },
  {
   "cell_type": "code",
   "execution_count": 36,
   "id": "dd344f5d-5e68-406d-bf24-7196c078b2fe",
   "metadata": {},
   "outputs": [
    {
     "name": "stdin",
     "output_type": "stream",
     "text": [
      "enter the coffee price : 10\n",
      "enter the snack price : 5\n",
      "enter the number of coffee : 2\n",
      "Enter the number of snack : 2\n"
     ]
    },
    {
     "name": "stdout",
     "output_type": "stream",
     "text": [
      "The total amount to be paid is : 31.5\n"
     ]
    }
   ],
   "source": [
    "price1=int(input(\"enter the coffee price :\"))\n",
    "price2=int(input(\"enter the snack price :\"))\n",
    "num1=int(input(\"enter the number of coffee :\"))\n",
    "num2=int(input(\"Enter the number of snack :\"))\n",
    "amount=(price1*num1)+(price2*num2)\n",
    "servicecharges=amount*5/100\n",
    "total=amount+servicecharges\n",
    "print(f\"The total amount to be paid is :\",(total))"
   ]
  },
  {
   "cell_type": "code",
   "execution_count": 24,
   "id": "95d9d099-f34b-4f63-bf15-918cb0c0f5f0",
   "metadata": {},
   "outputs": [
    {
     "ename": "TypeError",
     "evalue": "'tuple' object is not callable",
     "output_type": "error",
     "traceback": [
      "\u001b[1;31m---------------------------------------------------------------------------\u001b[0m",
      "\u001b[1;31mTypeError\u001b[0m                                 Traceback (most recent call last)",
      "Cell \u001b[1;32mIn[24], line 2\u001b[0m\n\u001b[0;32m      1\u001b[0m Num\u001b[38;5;241m=\u001b[39m(\u001b[38;5;241m10\u001b[39m,\u001b[38;5;241m20\u001b[39m,\u001b[38;5;241m30\u001b[39m,\u001b[38;5;241m40\u001b[39m,\u001b[38;5;241m50\u001b[39m,\u001b[38;5;241m60\u001b[39m)\n\u001b[1;32m----> 2\u001b[0m \u001b[38;5;28mprint\u001b[39m(Num)\n\u001b[0;32m      3\u001b[0m \u001b[38;5;28mprint\u001b[39m(\u001b[38;5;28mtype\u001b[39m(Num))\n\u001b[0;32m      4\u001b[0m a,b,c,d,e,f\u001b[38;5;241m=\u001b[39mNum\n",
      "\u001b[1;31mTypeError\u001b[0m: 'tuple' object is not callable"
     ]
    }
   ],
   "source": [
    "Num=(10,20,30,40,50,60)\n",
    "print(Num)\n",
    "print(type(Num))\n",
    "a,b,c,d,e,f=Num\n",
    "print(a)\n",
    "print(b)\n",
    "print(c)\n",
    "print(d)\n",
    "print(e)\n",
    "print(f)\n"
   ]
  },
  {
   "cell_type": "code",
   "execution_count": 12,
   "id": "958e191f-e920-454d-a80d-8d63b8ca8522",
   "metadata": {},
   "outputs": [
    {
     "ename": "TypeError",
     "evalue": "'tuple' object is not callable",
     "output_type": "error",
     "traceback": [
      "\u001b[1;31m---------------------------------------------------------------------------\u001b[0m",
      "\u001b[1;31mTypeError\u001b[0m                                 Traceback (most recent call last)",
      "Cell \u001b[1;32mIn[12], line 2\u001b[0m\n\u001b[0;32m      1\u001b[0m Num \u001b[38;5;241m=\u001b[39m \u001b[38;5;241m10\u001b[39m, \u001b[38;5;241m20\u001b[39m, \u001b[38;5;241m30\u001b[39m, \u001b[38;5;241m40\u001b[39m, \u001b[38;5;241m50\u001b[39m, \u001b[38;5;241m60\u001b[39m \n\u001b[1;32m----> 2\u001b[0m \u001b[38;5;28mprint\u001b[39m(Num)\n\u001b[0;32m      3\u001b[0m \u001b[38;5;28mprint\u001b[39m(\u001b[38;5;28mtype\u001b[39m(Num))\n\u001b[0;32m      4\u001b[0m a, b, c, d, e, f \u001b[38;5;241m=\u001b[39m Num\n",
      "\u001b[1;31mTypeError\u001b[0m: 'tuple' object is not callable"
     ]
    }
   ],
   "source": [
    "Num = 10, 20, 30, 40, 50, 60 \n",
    "print(Num)\n",
    "print(type(Num))\n",
    "a, b, c, d, e, f = Num\n",
    "print(a)\n",
    "print(b)\n",
    "print(c)\n",
    "print(d)\n",
    "print(e)\n",
    "print(f)"
   ]
  },
  {
   "cell_type": "code",
   "execution_count": 13,
   "id": "c257fb81-6c86-4c5e-8101-d3f156a41189",
   "metadata": {},
   "outputs": [
    {
     "ename": "TypeError",
     "evalue": "'tuple' object is not callable",
     "output_type": "error",
     "traceback": [
      "\u001b[1;31m---------------------------------------------------------------------------\u001b[0m",
      "\u001b[1;31mTypeError\u001b[0m                                 Traceback (most recent call last)",
      "Cell \u001b[1;32mIn[13], line 2\u001b[0m\n\u001b[0;32m      1\u001b[0m Num \u001b[38;5;241m=\u001b[39m \u001b[38;5;241m10\u001b[39m, \u001b[38;5;241m20\u001b[39m, \u001b[38;5;241m30\u001b[39m, \u001b[38;5;241m40\u001b[39m, \u001b[38;5;241m50\u001b[39m, \u001b[38;5;241m60\u001b[39m  \u001b[38;5;66;03m# Tuple packing (parentheses optional)\u001b[39;00m\n\u001b[1;32m----> 2\u001b[0m \u001b[38;5;28mprint\u001b[39m(Num)\n\u001b[0;32m      3\u001b[0m \u001b[38;5;28mprint\u001b[39m(\u001b[38;5;28mtype\u001b[39m(Num))\n\u001b[0;32m      5\u001b[0m \u001b[38;5;66;03m# Tuple unpacking\u001b[39;00m\n",
      "\u001b[1;31mTypeError\u001b[0m: 'tuple' object is not callable"
     ]
    }
   ],
   "source": [
    "Num = 10, 20, 30, 40, 50, 60  # Tuple packing (parentheses optional)\n",
    "print(Num)\n",
    "print(type(Num))\n",
    "\n",
    "# Tuple unpacking\n",
    "a, b, c, d, e, f = Num\n",
    "print(a)\n",
    "print(b)\n",
    "print(c)\n",
    "print(d)\n",
    "print(e)\n",
    "print(f)"
   ]
  },
  {
   "cell_type": "code",
   "execution_count": 14,
   "id": "03aa87ac-7c89-459e-b7b2-c955f20dc8cd",
   "metadata": {},
   "outputs": [
    {
     "ename": "SyntaxError",
     "evalue": "invalid syntax (1126680067.py, line 6)",
     "output_type": "error",
     "traceback": [
      "\u001b[1;36m  Cell \u001b[1;32mIn[14], line 6\u001b[1;36m\u001b[0m\n\u001b[1;33m    b=\u001b[0m\n\u001b[1;37m      ^\u001b[0m\n\u001b[1;31mSyntaxError\u001b[0m\u001b[1;31m:\u001b[0m invalid syntax\n"
     ]
    }
   ],
   "source": [
    "A=int(input('enter the value of first integer :'))\n",
    "b=int(input('enter the value of first integer :'))\n",
    "print(f\"a={a}\")\n",
    "print(f\"b={b}\")\n",
    "a=a+b\n",
    "b="
   ]
  },
  {
   "cell_type": "code",
   "execution_count": 17,
   "id": "944953c1-d325-4526-8e0c-42c0a233fbc8",
   "metadata": {},
   "outputs": [
    {
     "name": "stdin",
     "output_type": "stream",
     "text": [
      "enter the value of first integer : 3\n",
      "enter the value of first integer : 4\n"
     ]
    },
    {
     "ename": "TypeError",
     "evalue": "'tuple' object is not callable",
     "output_type": "error",
     "traceback": [
      "\u001b[1;31m---------------------------------------------------------------------------\u001b[0m",
      "\u001b[1;31mTypeError\u001b[0m                                 Traceback (most recent call last)",
      "Cell \u001b[1;32mIn[17], line 3\u001b[0m\n\u001b[0;32m      1\u001b[0m a\u001b[38;5;241m=\u001b[39m\u001b[38;5;28mint\u001b[39m(\u001b[38;5;28minput\u001b[39m(\u001b[38;5;124m'\u001b[39m\u001b[38;5;124menter the value of first integer :\u001b[39m\u001b[38;5;124m'\u001b[39m))\n\u001b[0;32m      2\u001b[0m b\u001b[38;5;241m=\u001b[39m\u001b[38;5;28mint\u001b[39m(\u001b[38;5;28minput\u001b[39m(\u001b[38;5;124m'\u001b[39m\u001b[38;5;124menter the value of first integer :\u001b[39m\u001b[38;5;124m'\u001b[39m))\n\u001b[1;32m----> 3\u001b[0m \u001b[38;5;28mprint\u001b[39m(\u001b[38;5;124mf\u001b[39m\u001b[38;5;124m\"\u001b[39m\u001b[38;5;124ma=\u001b[39m\u001b[38;5;132;01m{\u001b[39;00ma\u001b[38;5;132;01m}\u001b[39;00m\u001b[38;5;124m\"\u001b[39m)\n\u001b[0;32m      4\u001b[0m \u001b[38;5;28mprint\u001b[39m(\u001b[38;5;124mf\u001b[39m\u001b[38;5;124m\"\u001b[39m\u001b[38;5;124mb=\u001b[39m\u001b[38;5;132;01m{\u001b[39;00mb\u001b[38;5;132;01m}\u001b[39;00m\u001b[38;5;124m\"\u001b[39m)\n\u001b[0;32m      5\u001b[0m temp\u001b[38;5;241m=\u001b[39ma\n",
      "\u001b[1;31mTypeError\u001b[0m: 'tuple' object is not callable"
     ]
    }
   ],
   "source": [
    "a=int(input('enter the value of first integer :'))\n",
    "b=int(input('enter the value of first integer :'))\n",
    "print(f\"a={a}\")\n",
    "print(f\"b={b}\")\n",
    "temp=a\n",
    "a=b\n",
    "b=temp\n",
    "print(\"After Swapping :\")\n",
    "print(f\"a={a}\")\n",
    "print(f\"b={b}\")\n"
   ]
  },
  {
   "cell_type": "code",
   "execution_count": 19,
   "id": "2555cfa3-ccf9-423d-a001-df86c839ae06",
   "metadata": {},
   "outputs": [
    {
     "name": "stdin",
     "output_type": "stream",
     "text": [
      "enter the value of first integer : 1\n",
      "enter the value of first integer : 2\n"
     ]
    },
    {
     "ename": "TypeError",
     "evalue": "'tuple' object is not callable",
     "output_type": "error",
     "traceback": [
      "\u001b[1;31m---------------------------------------------------------------------------\u001b[0m",
      "\u001b[1;31mTypeError\u001b[0m                                 Traceback (most recent call last)",
      "Cell \u001b[1;32mIn[19], line 3\u001b[0m\n\u001b[0;32m      1\u001b[0m a\u001b[38;5;241m=\u001b[39m\u001b[38;5;28mint\u001b[39m(\u001b[38;5;28minput\u001b[39m(\u001b[38;5;124m'\u001b[39m\u001b[38;5;124menter the value of first integer :\u001b[39m\u001b[38;5;124m'\u001b[39m))\n\u001b[0;32m      2\u001b[0m b\u001b[38;5;241m=\u001b[39m\u001b[38;5;28mint\u001b[39m(\u001b[38;5;28minput\u001b[39m(\u001b[38;5;124m'\u001b[39m\u001b[38;5;124menter the value of first integer :\u001b[39m\u001b[38;5;124m'\u001b[39m))\n\u001b[1;32m----> 3\u001b[0m \u001b[38;5;28mprint\u001b[39m(\u001b[38;5;124mf\u001b[39m\u001b[38;5;124m\"\u001b[39m\u001b[38;5;124ma=\u001b[39m\u001b[38;5;132;01m{\u001b[39;00ma\u001b[38;5;132;01m}\u001b[39;00m\u001b[38;5;124m\"\u001b[39m)\n\u001b[0;32m      4\u001b[0m \u001b[38;5;28mprint\u001b[39m(\u001b[38;5;124mf\u001b[39m\u001b[38;5;124m\"\u001b[39m\u001b[38;5;124mb=\u001b[39m\u001b[38;5;132;01m{\u001b[39;00mb\u001b[38;5;132;01m}\u001b[39;00m\u001b[38;5;124m\"\u001b[39m)\n\u001b[0;32m      5\u001b[0m a,b\u001b[38;5;241m=\u001b[39mb,a\n",
      "\u001b[1;31mTypeError\u001b[0m: 'tuple' object is not callable"
     ]
    }
   ],
   "source": [
    "a=int(input('enter the value of first integer :'))\n",
    "b=int(input('enter the value of first integer :'))\n",
    "print(f\"a={a}\")\n",
    "print(f\"b={b}\")\n",
    "a,b=b,a\n",
    "print(\"After Swapping :\")\n",
    "print(f\"a={a}\")\n",
    "print(f\"b={b}\")"
   ]
  },
  {
   "cell_type": "code",
   "execution_count": 22,
   "id": "95a59ac2-5a0f-4fcc-93fd-4845a610b797",
   "metadata": {},
   "outputs": [
    {
     "name": "stdin",
     "output_type": "stream",
     "text": [
      "enter the integer value: 9\n"
     ]
    },
    {
     "ename": "TypeError",
     "evalue": "'tuple' object is not callable",
     "output_type": "error",
     "traceback": [
      "\u001b[1;31m---------------------------------------------------------------------------\u001b[0m",
      "\u001b[1;31mTypeError\u001b[0m                                 Traceback (most recent call last)",
      "Cell \u001b[1;32mIn[22], line 8\u001b[0m\n\u001b[0;32m      6\u001b[0m         factor\u001b[38;5;241m+\u001b[39m\u001b[38;5;241m=\u001b[39m\u001b[38;5;241m1\u001b[39m\n\u001b[0;32m      7\u001b[0m res\u001b[38;5;241m=\u001b[39m\u001b[38;5;124m\"\u001b[39m\u001b[38;5;124mPrime Number\u001b[39m\u001b[38;5;124m\"\u001b[39m \u001b[38;5;28;01mif\u001b[39;00m factor\u001b[38;5;241m==\u001b[39m\u001b[38;5;241m2\u001b[39m \u001b[38;5;28;01melse\u001b[39;00m \u001b[38;5;124m\"\u001b[39m\u001b[38;5;124mnot a prime number\u001b[39m\u001b[38;5;124m\"\u001b[39m\n\u001b[1;32m----> 8\u001b[0m \u001b[38;5;28mprint\u001b[39m(\u001b[38;5;124mf\u001b[39m\u001b[38;5;124m\"\u001b[39m\u001b[38;5;132;01m{\u001b[39;00mnum\u001b[38;5;132;01m}\u001b[39;00m\u001b[38;5;124m is \u001b[39m\u001b[38;5;132;01m{\u001b[39;00mres\u001b[38;5;132;01m}\u001b[39;00m\u001b[38;5;124m\"\u001b[39m)\n",
      "\u001b[1;31mTypeError\u001b[0m: 'tuple' object is not callable"
     ]
    }
   ],
   "source": [
    "# Write a Python program to check whether the user-entered integer is a prime number or not\n",
    "num=int(input('enter the integer value:'))\n",
    "factor=0\n",
    "for i in range(1,num+1):\n",
    "    if(num%i==0):\n",
    "        factor+=1\n",
    "res=\"Prime Number\" if factor==2 else \"not a prime number\"\n",
    "print(f\"{num} is {res}\")"
   ]
  },
  {
   "cell_type": "markdown",
   "id": "0499557d-70a0-4e02-89db-9ee6a55d76ca",
   "metadata": {},
   "source": [
    "### exit"
   ]
  },
  {
   "cell_type": "code",
   "execution_count": 23,
   "id": "7d9dae5a-d00c-4b69-acac-172b3d5cacb3",
   "metadata": {},
   "outputs": [
    {
     "name": "stdin",
     "output_type": "stream",
     "text": [
      "Enter number:  11\n"
     ]
    },
    {
     "ename": "TypeError",
     "evalue": "'tuple' object is not callable",
     "output_type": "error",
     "traceback": [
      "\u001b[1;31m---------------------------------------------------------------------------\u001b[0m",
      "\u001b[1;31mTypeError\u001b[0m                                 Traceback (most recent call last)",
      "Cell \u001b[1;32mIn[23], line 6\u001b[0m\n\u001b[0;32m      4\u001b[0m is_prime \u001b[38;5;241m=\u001b[39m n \u001b[38;5;241m>\u001b[39m \u001b[38;5;241m1\u001b[39m \u001b[38;5;129;01mand\u001b[39;00m \u001b[38;5;28mall\u001b[39m(n \u001b[38;5;241m%\u001b[39m i \u001b[38;5;28;01mfor\u001b[39;00m i \u001b[38;5;129;01min\u001b[39;00m \u001b[38;5;28mrange\u001b[39m(\u001b[38;5;241m2\u001b[39m, \u001b[38;5;28mint\u001b[39m(n\u001b[38;5;241m*\u001b[39m\u001b[38;5;241m*\u001b[39m\u001b[38;5;241m0.5\u001b[39m) \u001b[38;5;241m+\u001b[39m \u001b[38;5;241m1\u001b[39m))\n\u001b[0;32m      5\u001b[0m result \u001b[38;5;241m=\u001b[39m \u001b[38;5;124m\"\u001b[39m\u001b[38;5;124mPrime Palindrome\u001b[39m\u001b[38;5;124m\"\u001b[39m \u001b[38;5;28;01mif\u001b[39;00m is_prime \u001b[38;5;129;01mand\u001b[39;00m is_pal \u001b[38;5;28;01melse\u001b[39;00m \u001b[38;5;124m\"\u001b[39m\u001b[38;5;124mNot Prime Palindrome\u001b[39m\u001b[38;5;124m\"\u001b[39m\n\u001b[1;32m----> 6\u001b[0m \u001b[38;5;28mprint\u001b[39m(\u001b[38;5;124mf\u001b[39m\u001b[38;5;124m\"\u001b[39m\u001b[38;5;132;01m{\u001b[39;00mn\u001b[38;5;132;01m}\u001b[39;00m\u001b[38;5;124m is \u001b[39m\u001b[38;5;132;01m{\u001b[39;00mresult\u001b[38;5;132;01m}\u001b[39;00m\u001b[38;5;124m\"\u001b[39m)\n",
      "\u001b[1;31mTypeError\u001b[0m: 'tuple' object is not callable"
     ]
    }
   ],
   "source": [
    "# write a python program to read an int val as input from the user and check whether it is a prime plaindrome or not\n",
    "n = int(input(\"Enter number: \"))\n",
    "pal = str(n) == str(n)[::-1]\n",
    "prime = n > 1 and all(n % i for i in range(2, int(n**0.5) + 1))\n",
    "result = \"Prime Palindrome\" if prime and pal else \"Not Prime Palindrome\"\n",
    "print(f\"{n} is {result}\")"
   ]
  },
  {
   "cell_type": "code",
   "execution_count": 25,
   "id": "74c15b8c-5f8a-4b2c-8c99-7008f948b6c9",
   "metadata": {},
   "outputs": [
    {
     "name": "stdin",
     "output_type": "stream",
     "text": [
      "Enter number:  11\n"
     ]
    },
    {
     "ename": "TypeError",
     "evalue": "'tuple' object is not callable",
     "output_type": "error",
     "traceback": [
      "\u001b[1;31m---------------------------------------------------------------------------\u001b[0m",
      "\u001b[1;31mTypeError\u001b[0m                                 Traceback (most recent call last)",
      "Cell \u001b[1;32mIn[25], line 5\u001b[0m\n\u001b[0;32m      3\u001b[0m prime \u001b[38;5;241m=\u001b[39m n \u001b[38;5;241m>\u001b[39m \u001b[38;5;241m1\u001b[39m \u001b[38;5;129;01mand\u001b[39;00m \u001b[38;5;28mall\u001b[39m(n \u001b[38;5;241m%\u001b[39m i \u001b[38;5;28;01mfor\u001b[39;00m i \u001b[38;5;129;01min\u001b[39;00m \u001b[38;5;28mrange\u001b[39m(\u001b[38;5;241m2\u001b[39m, \u001b[38;5;28mint\u001b[39m(n\u001b[38;5;241m*\u001b[39m\u001b[38;5;241m*\u001b[39m\u001b[38;5;241m0.5\u001b[39m) \u001b[38;5;241m+\u001b[39m \u001b[38;5;241m1\u001b[39m))\n\u001b[0;32m      4\u001b[0m result \u001b[38;5;241m=\u001b[39m \u001b[38;5;124m\"\u001b[39m\u001b[38;5;124mPrime Palindrome\u001b[39m\u001b[38;5;124m\"\u001b[39m \u001b[38;5;28;01mif\u001b[39;00m prime \u001b[38;5;129;01mand\u001b[39;00m pal \u001b[38;5;28;01melse\u001b[39;00m \u001b[38;5;124m\"\u001b[39m\u001b[38;5;124mNot Prime Palindrome\u001b[39m\u001b[38;5;124m\"\u001b[39m\n\u001b[1;32m----> 5\u001b[0m \u001b[38;5;28mprint\u001b[39m(\u001b[38;5;124mf\u001b[39m\u001b[38;5;124m\"\u001b[39m\u001b[38;5;132;01m{\u001b[39;00mn\u001b[38;5;132;01m}\u001b[39;00m\u001b[38;5;124m is \u001b[39m\u001b[38;5;132;01m{\u001b[39;00mresult\u001b[38;5;132;01m}\u001b[39;00m\u001b[38;5;124m\"\u001b[39m)\n",
      "\u001b[1;31mTypeError\u001b[0m: 'tuple' object is not callable"
     ]
    }
   ],
   "source": [
    "n = int(input(\"Enter number: \"))\n",
    "pal = str(n) == str(n)[::-1]\n",
    "prime = n > 1 and all(n % i for i in range(2, int(n**0.5) + 1))\n",
    "result = \"Prime Palindrome\" if prime and pal else \"Not Prime Palindrome\"\n",
    "print(f\"{n} is {result}\")"
   ]
  },
  {
   "cell_type": "code",
   "execution_count": null,
   "id": "dc5e54e7-9917-40f5-9dc9-0edca4642d5b",
   "metadata": {},
   "outputs": [],
   "source": []
  }
 ],
 "metadata": {
  "kernelspec": {
   "display_name": "Python 3 (ipykernel)",
   "language": "python",
   "name": "python3"
  },
  "language_info": {
   "codemirror_mode": {
    "name": "ipython",
    "version": 3
   },
   "file_extension": ".py",
   "mimetype": "text/x-python",
   "name": "python",
   "nbconvert_exporter": "python",
   "pygments_lexer": "ipython3",
   "version": "3.12.7"
  }
 },
 "nbformat": 4,
 "nbformat_minor": 5
}
