{
 "cells": [
  {
   "cell_type": "code",
   "execution_count": 2,
   "id": "3dd058f5-8762-4bb2-9f13-46b5c332d786",
   "metadata": {},
   "outputs": [
    {
     "name": "stdout",
     "output_type": "stream",
     "text": [
      "pythton\n",
      "java\n",
      "sql\n",
      "c++\n",
      "pythton\n",
      "java\n",
      "sql\n",
      "c++\n"
     ]
    }
   ],
   "source": [
    "def display():\n",
    "    print('pythton')\n",
    "    print('java')\n",
    "    print('sql')\n",
    "    print('c++')\n",
    "display()\n",
    "display()"
   ]
  },
  {
   "cell_type": "code",
   "execution_count": 7,
   "id": "0e6749af-4073-4ff7-8145-9a21ec126160",
   "metadata": {},
   "outputs": [
    {
     "name": "stdout",
     "output_type": "stream",
     "text": [
      "9\n",
      "25\n"
     ]
    }
   ],
   "source": [
    "def add(a,b):\n",
    "    return a+b\n",
    "print(add(4,5))\n",
    "res=add(10,15)\n",
    "print(res)"
   ]
  },
  {
   "cell_type": "code",
   "execution_count": 14,
   "id": "110f595b-53cc-419b-bd57-6870afefcdd2",
   "metadata": {},
   "outputs": [
    {
     "name": "stdout",
     "output_type": "stream",
     "text": [
      "multiplication table of 5 \n",
      "\n",
      "5 * 1 = 5\n",
      "5 * 2 = 10\n",
      "5 * 3 = 15\n",
      "5 * 4 = 20\n",
      "5 * 5 = 25\n",
      "5 * 6 = 30\n",
      "5 * 7 = 35\n",
      "5 * 8 = 40\n",
      "5 * 9 = 45\n",
      "5 * 10 = 50\n",
      "\n",
      "multiplication table of 6 \n",
      "\n",
      "6 * 1 = 6\n",
      "6 * 2 = 12\n",
      "6 * 3 = 18\n",
      "6 * 4 = 24\n",
      "6 * 5 = 30\n",
      "6 * 6 = 36\n",
      "6 * 7 = 42\n",
      "6 * 8 = 48\n",
      "6 * 9 = 54\n",
      "6 * 10 = 60\n",
      "\n"
     ]
    }
   ],
   "source": [
    "#write a python program to print the multiplicaiton table of n using functions\n",
    "def table(n):\n",
    "    print(f\"multiplication table of {n} \\n\")\n",
    "    for i in range(1,11):\n",
    "        print(f\"{n} * {i} = {n*i}\")\n",
    "    print()\n",
    "table(5)\n",
    "table(6)"
   ]
  },
  {
   "cell_type": "code",
   "execution_count": 17,
   "id": "4a5b3514-ecff-4b10-ade1-9a4cb6fb72df",
   "metadata": {},
   "outputs": [
    {
     "name": "stdout",
     "output_type": "stream",
     "text": [
      "simple interest is:500000.0\n"
     ]
    }
   ],
   "source": [
    "# Write a Python program to calculate simple interest by using a parameterized function\n",
    "def si(amount,rate,time):\n",
    "    interest=(amount*rate*time)/100\n",
    "    print(f\"simple interest is:{interest}\")\n",
    "si(10000000,5,1)"
   ]
  },
  {
   "cell_type": "markdown",
   "id": "1387b8b8-2246-432f-afe0-6cc10c235fdd",
   "metadata": {},
   "source": [
    "#### list[]\n",
    "* It is ordered\n",
    "* it is changeable\n",
    "* It is a duplicate member\n",
    "#### tuple()\n",
    "* It is ordered\n",
    "* It is a duplicate member\n",
    "* it is not changeable\n",
    "#### dictionary{}\n",
    "* it is changeable\n",
    "* It is indexed\n",
    "* It is not ordered\n",
    "* It is not a duplicate member\n",
    "### sets{}\n",
    "* it is changeable\n",
    "* It is not ordered\n",
    "* It is not a duplicate member\n",
    "* It is not indexed"
   ]
  },
  {
   "cell_type": "markdown",
   "id": "88c6609c-1f85-4ef8-8e84-0ca2cf3b13c2",
   "metadata": {},
   "source": [
    "#### 1. time complexity:\n",
    "* Time complexity is used to measure the amount of time required to execute the code.\n",
    "#### 2. space complexity;\n",
    "* Space complexity means the amount of space required to execute successfully the functionalities of the code\n"
   ]
  },
  {
   "cell_type": "markdown",
   "id": "0a995058-fc54-41f8-8575-fe68fc6aa198",
   "metadata": {},
   "source": [
    "#### Big-O Notation (O):\n",
    "* Big-O notation specifically describes the worst-case scenario\n",
    "#### Omega Notation (Ω):\n",
    "* Omega (Ω) notation specially describes the best-case scenario\n",
    "#### Theta notation (θ):\n",
    "* Theta (θ), this notation represents the average complexity of an algorithm"
   ]
  },
  {
   "cell_type": "code",
   "execution_count": null,
   "id": "26dfdcba-7993-4765-b958-2a3485fe5f89",
   "metadata": {},
   "outputs": [],
   "source": []
  }
 ],
 "metadata": {
  "kernelspec": {
   "display_name": "Python 3 (ipykernel)",
   "language": "python",
   "name": "python3"
  },
  "language_info": {
   "codemirror_mode": {
    "name": "ipython",
    "version": 3
   },
   "file_extension": ".py",
   "mimetype": "text/x-python",
   "name": "python",
   "nbconvert_exporter": "python",
   "pygments_lexer": "ipython3",
   "version": "3.12.7"
  }
 },
 "nbformat": 4,
 "nbformat_minor": 5
}
