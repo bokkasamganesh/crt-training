{
 "cells": [
  {
   "cell_type": "markdown",
   "id": "8209089f-a8c0-486b-ae4a-d9c940804009",
   "metadata": {},
   "source": [
    "#### object  orientedd programming system\n",
    "* inheritance\n",
    "* polymorphism\n",
    "* encapsulation\n",
    "* "
   ]
  },
  {
   "cell_type": "markdown",
   "id": "c05c5576-bccd-4727-89c2-b702531f2488",
   "metadata": {},
   "source": [
    "#### Entity: \n",
    "* Anything which has the existence or anything which exsits.\n",
    "#### Class:\n",
    "* It is a logical Entity or blue print or a plan to create  multiple objects\n",
    "* Multiple objects created using the same class are known as identical object or similar object."
   ]
  },
  {
   "cell_type": "markdown",
   "id": "1df13c94-04c9-4a52-ae4f-976d8540d3bc",
   "metadata": {},
   "source": [
    "#### syntax:\n",
    "classname:\n",
    "    constructor\n",
    "        +\n",
    "    object creation"
   ]
  },
  {
   "cell_type": "markdown",
   "id": "641b3939-49d8-4f89-a372-b9d1c0339d40",
   "metadata": {},
   "source": [
    "#### Object:\n",
    "* It is a real-world physical entity.\n",
    "* Object consists of states & behaviours.\n",
    "* An object is also known as an instance.\n",
    "\n",
    "#### syntax:"
   ]
  },
  {
   "cell_type": "markdown",
   "id": "2f4e3db7-7b2c-429b-8b9f-22158cccead7",
   "metadata": {},
   "source": [
    "#### ClassName rules :\n",
    "* The class name can be any valid identifier.\n",
    "* It can't be python reserved word.\n",
    "* A valid calss name starts with a letter, follwed by any number of letter, numbers or underscroes\n",
    "* A class name generally starts with capital letter.\n",
    "#### How to create class\n",
    "* to define a class, we use the calss keyword.\n",
    "* This was an empty calss.\n",
    "* class mobile:"
   ]
  },
  {
   "cell_type": "markdown",
   "id": "172c3b65-3a19-41cc-ac42-24318fe2cd1a",
   "metadata": {},
   "source": [
    "### Constructures:\n",
    "* A class constructor, if defined is called whenever a program creates an object if that class.\n",
    "* A constructor is called only once at the time of creating an instance.\n",
    "\n",
    "#### types\n",
    "* Parameterized\n",
    "* Non-parameterized"
   ]
  },
  {
   "cell_type": "markdown",
   "id": "e43603b2-bfad-4320-b396-ea9aa08f908c",
   "metadata": {},
   "source": [
    "#### The __init__() Method\n",
    "* This is a magic method (dunder method) which we can use to initialize variables for classes(objects).\n",
    "* Every class has __init__ and this is executed when we instantiate the class"
   ]
  },
  {
   "cell_type": "markdown",
   "id": "ecadcc09-bc73-46e7-aa93-06dd152b49b4",
   "metadata": {},
   "source": [
    "#### self\n",
    "* The self keyword is definitely invoking the object reference"
   ]
  },
  {
   "cell_type": "code",
   "execution_count": 15,
   "id": "cf64d5d4-4cdd-4317-b575-fae2eef5e51b",
   "metadata": {},
   "outputs": [
    {
     "name": "stdout",
     "output_type": "stream",
     "text": [
      "student name is: gani\n",
      "student age is: 21\n",
      "student branch is: csc\n",
      "student dept is: csc dept\n",
      "student section is: a\n",
      "student regnum is: 22f21a3709\n",
      "student name is: gani\n",
      "student age is: 21\n",
      "student branch is: csc\n",
      "student dept is: csc dept\n",
      "student section is: a\n",
      "student regnum is: 22f21a3709\n"
     ]
    }
   ],
   "source": [
    "class Student:\n",
    "    def __init__(self,name,age,branch,dept,section,regnum):\n",
    "        self.stdname=name\n",
    "        self.age=age\n",
    "        self.branch=branch\n",
    "        self.dept=dept\n",
    "        self.section=section\n",
    "        self.regnum=regnum\n",
    "    def display(self):\n",
    "        print(f\"student name is: {self.stdname}\")\n",
    "        print(f\"student age is: {self.age}\")\n",
    "        print(f\"student branch is: {self.branch}\")\n",
    "        print(f\"student dept is: {self.dept}\")\n",
    "        print(f\"student section is: {self.section}\")\n",
    "        print(f\"student regnum is: {self.regnum}\")\n",
    "s1=Student(\"gani\",21,\"csc\",\"csc dept\",\"a\",\"22f21a3709\")\n",
    "s1.display()\n",
    "s2=Student(\"chaitu\",22,\"csc\",\"csc dept\",\"a\",\"22f21a3726\")\n",
    "s1.display()\n"
   ]
  },
  {
   "cell_type": "code",
   "execution_count": 16,
   "id": "911418e4-8558-4b7f-b56b-c5ded9906e51",
   "metadata": {},
   "outputs": [],
   "source": [
    "class employee:\n",
    "    def __init__(self,empname,empnum,designation, salary,deptno):\n",
    "        self.empname=empname\n",
    "        self.empnum=empnum\n",
    "        self.designation=designation\n",
    "        self.salary=salary\n",
    "        self.deptno=deptno"
   ]
  },
  {
   "cell_type": "markdown",
   "id": "3001a7cf-d884-401d-a818-7451a8e2e773",
   "metadata": {},
   "source": [
    "### CLASS METHODS:\n",
    "* Class methods are the methods which act upon the class variables or static variables of the class.\n",
    "* detector @classmethod need to write above the class method\n",
    "* By defalut, the first parameter of the class method is cls which refers to the class itself."
   ]
  },
  {
   "cell_type": "code",
   "execution_count": 24,
   "id": "9598d8d9-9444-43dd-b98f-2201ebb14a00",
   "metadata": {},
   "outputs": [
    {
     "name": "stdout",
     "output_type": "stream",
     "text": [
      "RealMe X\n"
     ]
    }
   ],
   "source": [
    "class Mobile:\n",
    "    @classmethod\n",
    "    def show_model(cls):\n",
    "        print(\"RealMe X\")\n",
    "realme=Mobile()\n",
    "Mobile.show_model()"
   ]
  },
  {
   "cell_type": "markdown",
   "id": "06c795ef-b881-498f-9015-4ad66955823b",
   "metadata": {},
   "source": [
    "### STATIC METHODS:\n",
    "* Static methods are used when some processing is related to the class but does not need the class or its instances to perform any work.\n",
    "* We use static method when we want to pass some values from outside and perform some action in the method.\n",
    "* Dectetor @staticmethod need to write above the static method."
   ]
  },
  {
   "cell_type": "code",
   "execution_count": 26,
   "id": "f5e6a3e0-7302-4f74-863e-bf072734b1d6",
   "metadata": {},
   "outputs": [
    {
     "name": "stdout",
     "output_type": "stream",
     "text": [
      "RealMe X\n"
     ]
    }
   ],
   "source": [
    "class Mobile:\n",
    "    @staticmethod\n",
    "    def show_model():\n",
    "        print(\"RealMe X\")\n",
    "realme=Mobile()\n",
    "Mobile.show_model()"
   ]
  },
  {
   "cell_type": "markdown",
   "id": "511c902f-772f-4ed7-a0cf-539a81d96b79",
   "metadata": {},
   "source": [
    "### Inheritance:\n",
    "* The mechanisms of deriving a new class from an old one (existing class), such that the new class inherits all members (variables and methods) of the old class, is called inheritance or derivation.\n",
    "* There are five types\n",
    "* 1. single\n",
    "* 2. multilevel\n",
    "* 3. multiple\n",
    "* 4. hierarchical\n",
    "* 5. hybrid"
   ]
  },
  {
   "cell_type": "markdown",
   "id": "c66dc6a1-46e2-4c2c-b4a2-5151965529f0",
   "metadata": {},
   "source": [
    "### SUPER CLASS AND SUB CLASS:\n",
    "The old class is referred to as the superclass, and the new one is called the subclass.\n",
    "* parent class\n",
    "  base class or super class\n",
    "* child class\n",
    "  "
   ]
  },
  {
   "cell_type": "code",
   "execution_count": null,
   "id": "175de988-7204-4787-92fc-fa9ba55eedaf",
   "metadata": {},
   "outputs": [],
   "source": []
  }
 ],
 "metadata": {
  "kernelspec": {
   "display_name": "Python 3 (ipykernel)",
   "language": "python",
   "name": "python3"
  },
  "language_info": {
   "codemirror_mode": {
    "name": "ipython",
    "version": 3
   },
   "file_extension": ".py",
   "mimetype": "text/x-python",
   "name": "python",
   "nbconvert_exporter": "python",
   "pygments_lexer": "ipython3",
   "version": "3.12.7"
  }
 },
 "nbformat": 4,
 "nbformat_minor": 5
}
