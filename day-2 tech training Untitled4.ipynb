{
 "cells": [
  {
   "cell_type": "code",
   "execution_count": 6,
   "id": "a265b8dc-d061-4338-baba-7b175bb8a8b7",
   "metadata": {},
   "outputs": [
    {
     "name": "stdin",
     "output_type": "stream",
     "text": [
      "Enter amount =  900\n"
     ]
    },
    {
     "name": "stdout",
     "output_type": "stream",
     "text": [
      "withdrawal is done\n"
     ]
    }
   ],
   "source": [
    "amount=int(input(\"Enter amount = \"))\n",
    "if(amount<=5000 and amount%100==0):\n",
    "    print(\"withdrawal is done\")\n",
    "elif(amount>5000):\n",
    "    print(\"insufficient balance\")\n",
    "else:\n",
    "    print(\"amount sholud be miltiple of 100\")"
   ]
  },
  {
   "cell_type": "code",
   "execution_count": 11,
   "id": "7a8f3baa-5343-4aa0-875f-52773aedd427",
   "metadata": {},
   "outputs": [
    {
     "name": "stdin",
     "output_type": "stream",
     "text": [
      "Enter traffic light color : red\n"
     ]
    },
    {
     "name": "stdout",
     "output_type": "stream",
     "text": [
      "Stop immediately\n"
     ]
    }
   ],
   "source": [
    "light = input(\"Enter traffic light color :\")\n",
    "if(light==\"red\"):\n",
    "    print(\"Stop immediately\")\n",
    "elif(light==\"yellow\"):\n",
    "    print(\"Get ready to move\")\n",
    "elif(light==\"green\"):\n",
    "    print(\"You can go\")\n",
    "else:\n",
    "    print(\"Invalid color\")"
   ]
  },
  {
   "cell_type": "code",
   "execution_count": 24,
   "id": "d88cabd7-8ccd-4cf4-b251-c00fea2b7faa",
   "metadata": {},
   "outputs": [
    {
     "name": "stdin",
     "output_type": "stream",
     "text": [
      "enter the age : 9\n"
     ]
    },
    {
     "name": "stdout",
     "output_type": "stream",
     "text": [
      "tickect price is 150\n"
     ]
    }
   ],
   "source": [
    "age= int(input(\"enter the age :\"))\n",
    "if(age<12):\n",
    "        print(\"tickect price is 150\")\n",
    "elif(age>=12 and age<=18):\n",
    "        print(\"tickect price is 200\")\n",
    "else:\n",
    "    print(\"ticket price is 300\")\n",
    "        "
   ]
  },
  {
   "cell_type": "code",
   "execution_count": 25,
   "id": "ffee46e0-e31a-4163-8c84-6398dd5b7e20",
   "metadata": {},
   "outputs": [
    {
     "name": "stdin",
     "output_type": "stream",
     "text": [
      "enter the time 4\n"
     ]
    },
    {
     "name": "stdout",
     "output_type": "stream",
     "text": [
      "no overtime pay\n"
     ]
    }
   ],
   "source": [
    "time= int (input(\"enter the time\"))\n",
    "if(time<8):\n",
    "    print(\"no overtime pay\")\n",
    "else:\n",
    "    print(\"100 per extra hour\")"
   ]
  },
  {
   "cell_type": "code",
   "execution_count": 31,
   "id": "1e3af05a-c6f3-4ca1-bf01-23ee40cb8ddc",
   "metadata": {},
   "outputs": [
    {
     "name": "stdin",
     "output_type": "stream",
     "text": [
      "enterr the bill : 10000\n"
     ]
    },
    {
     "name": "stdout",
     "output_type": "stream",
     "text": [
      "10%discount\n"
     ]
    }
   ],
   "source": [
    "bill=int(input(\"enterr the bill :\"))\n",
    "if (bill>1000):\n",
    "    print(\"10%discount\")\n",
    "elif (bill<1000 and bill>500):\n",
    "    print(\"5%discount\")\n",
    "else:\n",
    "    print(\"no discount\")"
   ]
  },
  {
   "cell_type": "code",
   "execution_count": 32,
   "id": "045b4b0d-b430-4946-b22c-7b4f6752e23e",
   "metadata": {},
   "outputs": [
    {
     "name": "stdin",
     "output_type": "stream",
     "text": [
      "enter the hours 5\n"
     ]
    },
    {
     "name": "stdout",
     "output_type": "stream",
     "text": [
      "you are dehydrated! drink water now\n"
     ]
    }
   ],
   "source": [
    "water=int(input(\"enter the hours\"))\n",
    "if(water>=4):\n",
    "    print(\"you are dehydrated! drink water now\")\n",
    "elif(water>2 and water<3):\n",
    "    print(\"drink a glass of water\")\n",
    "else:\n",
    "    print(\"you're fine\")"
   ]
  },
  {
   "cell_type": "markdown",
   "id": "f601d2c0-28af-4c86-89b6-95b9e8f45f4e",
   "metadata": {},
   "source": [
    "### datatypes\n",
    "#### list,tuple,set\n"
   ]
  },
  {
   "cell_type": "code",
   "execution_count": 33,
   "id": "ba47717e-d449-449a-a4ee-130b90be43e9",
   "metadata": {},
   "outputs": [
    {
     "name": "stdout",
     "output_type": "stream",
     "text": [
      "[10, 20, 30, 40, 50] <class 'list'>\n",
      "(10, 20, 30, 40, 50) <class 'tuple'>\n",
      "{50, 20, 40, 10, 30} <class 'set'>\n"
     ]
    }
   ],
   "source": [
    "list=[10,20,30,40,50]\n",
    "tuple=(10,20,30,40,50)\n",
    "set={10,20,30,40,50}\n",
    "print(list,type(list))\n",
    "print(tuple,type(tuple))\n",
    "print(set,type(set))"
   ]
  },
  {
   "cell_type": "code",
   "execution_count": 34,
   "id": "c1698896-a92b-4364-a2da-2652140e3894",
   "metadata": {},
   "outputs": [
    {
     "name": "stdout",
     "output_type": "stream",
     "text": [
      "range(0, 10)\n",
      "<class 'range'>\n"
     ]
    }
   ],
   "source": [
    "#range(stop)\n",
    "#range(start,stop)\n",
    "#range(start,stop,stepsize)\n",
    "r1=range(10)\n",
    "print(r1)\n",
    "print(type(r1))"
   ]
  },
  {
   "cell_type": "code",
   "execution_count": 40,
   "id": "48fccca2-e5a3-43b6-930b-d65e58689fd7",
   "metadata": {},
   "outputs": [
    {
     "name": "stdout",
     "output_type": "stream",
     "text": [
      "1\n",
      "3\n",
      "5\n",
      "7\n",
      "9\n"
     ]
    }
   ],
   "source": [
    "for i in range(1,11,2):\n",
    "    print(i)"
   ]
  },
  {
   "cell_type": "code",
   "execution_count": 49,
   "id": "a1ea7d5f-7ab6-46b2-ad3f-906786907794",
   "metadata": {},
   "outputs": [
    {
     "name": "stdin",
     "output_type": "stream",
     "text": [
      "enter the integer value 9\n"
     ]
    },
    {
     "name": "stdout",
     "output_type": "stream",
     "text": [
      "natural numbers from 1 to 9:\n",
      "1\n",
      "2\n",
      "3\n",
      "4\n",
      "5\n",
      "6\n",
      "7\n",
      "8\n",
      "9\n"
     ]
    }
   ],
   "source": [
    "#writ wa python program to print the natural numbers from 1 to n whre n is the users input\n",
    "n=int(input(\"enter the integer value\"))\n",
    "print(f\"natural numbers from 1 to {n}:\")\n",
    "for i in range (1, n+1):\n",
    "    print(i)"
   ]
  },
  {
   "cell_type": "code",
   "execution_count": 50,
   "id": "dac35bb7-d119-4f09-8273-1c6e84c028b5",
   "metadata": {},
   "outputs": [
    {
     "name": "stdin",
     "output_type": "stream",
     "text": [
      "enter the integer value 5\n"
     ]
    },
    {
     "name": "stdout",
     "output_type": "stream",
     "text": [
      "natural numbers from 1 to 5:\n",
      "5\n",
      "4\n",
      "3\n",
      "2\n",
      "1\n"
     ]
    }
   ],
   "source": [
    "# write the python program to print natural nubrs fron n to 1\n",
    "n=int(input(\"enter the integer value\"))\n",
    "print(f\"natural numbers from 1 to {n}:\")\n",
    "for i in range (n,0,-1):\n",
    "    print(i)"
   ]
  },
  {
   "cell_type": "code",
   "execution_count": 52,
   "id": "e3452414-18b7-4356-82d5-75bae89466f4",
   "metadata": {},
   "outputs": [
    {
     "name": "stdin",
     "output_type": "stream",
     "text": [
      "enter the integer value 10\n"
     ]
    },
    {
     "name": "stdout",
     "output_type": "stream",
     "text": [
      "even numbers from 1 to 10:\n",
      "2\n",
      "4\n",
      "6\n",
      "8\n",
      "10\n"
     ]
    }
   ],
   "source": [
    "#write a python program to print even numbers from 1 to n\n",
    "n=int(input(\"enter the integer value\"))\n",
    "print(f\"even numbers from 1 to {n}:\")\n",
    "for i in range (2,n+1,2):\n",
    "    print(i)"
   ]
  },
  {
   "cell_type": "code",
   "execution_count": 59,
   "id": "9e0ec495-8d2e-460f-943c-0e38b05ab6af",
   "metadata": {},
   "outputs": [
    {
     "name": "stdin",
     "output_type": "stream",
     "text": [
      "enter the integer value 10\n"
     ]
    },
    {
     "name": "stdout",
     "output_type": "stream",
     "text": [
      "even numbers from 1 to 10:\n",
      "10\n",
      "8\n",
      "6\n",
      "4\n",
      "2\n"
     ]
    }
   ],
   "source": [
    "# writea python program to print the even numbers from n to 1\n",
    "n=int(input(\"enter the integer value\"))\n",
    "print(f\"even numbers from 1 to {n}:\")\n",
    "for i in range (n,0,-1):\n",
    "    if (i%2==0):\n",
    "        print(i)"
   ]
  },
  {
   "cell_type": "code",
   "execution_count": 68,
   "id": "e3daf4ae-8317-45a5-87ea-c68c04eeb751",
   "metadata": {},
   "outputs": [
    {
     "name": "stdin",
     "output_type": "stream",
     "text": [
      "enter the integer value 20\n"
     ]
    },
    {
     "name": "stdout",
     "output_type": "stream",
     "text": [
      "odd numbers from 1 to 20:\n",
      "1\n",
      "3\n",
      "5\n",
      "7\n",
      "9\n",
      "11\n",
      "13\n",
      "15\n",
      "17\n",
      "19\n",
      "21\n"
     ]
    }
   ],
   "source": [
    "#write a python program to print odd number from 1 to n\n",
    "n=int(input(\"enter the integer value\"))\n",
    "print(f\"odd numbers from 1 to {n}:\")\n",
    "for i in range (1,n+2,2):\n",
    "    print(i)\n",
    "    "
   ]
  },
  {
   "cell_type": "code",
   "execution_count": 74,
   "id": "57eb8aaf-74bb-4acd-89eb-065cae80e2cd",
   "metadata": {},
   "outputs": [
    {
     "name": "stdin",
     "output_type": "stream",
     "text": [
      "enter the integer value 10\n"
     ]
    },
    {
     "name": "stdout",
     "output_type": "stream",
     "text": [
      "odd numbers from 1 to 10:\n",
      "9\n",
      "7\n",
      "5\n",
      "3\n",
      "1\n"
     ]
    }
   ],
   "source": [
    "#odd numbers n to 1\n",
    "n=int(input(\"enter the integer value\"))\n",
    "print(f\"odd numbers from 1 to {n}:\")\n",
    "for i in range (n,0,-1):\n",
    "    if (i%2!=0):\n",
    "        print(i)"
   ]
  },
  {
   "cell_type": "code",
   "execution_count": 75,
   "id": "e48c8793-088a-4942-b2f8-f534e3b9353b",
   "metadata": {},
   "outputs": [
    {
     "name": "stdin",
     "output_type": "stream",
     "text": [
      "enter the integer value 5\n"
     ]
    },
    {
     "name": "stdout",
     "output_type": "stream",
     "text": [
      "MULTIPLE TABLE OF5:\n",
      "5 * 1 = 5\n",
      "5 * 2 = 10\n",
      "5 * 3 = 15\n",
      "5 * 4 = 20\n",
      "5 * 5 = 25\n",
      "5 * 6 = 30\n",
      "5 * 7 = 35\n",
      "5 * 8 = 40\n",
      "5 * 9 = 45\n",
      "5 * 10 = 50\n"
     ]
    }
   ],
   "source": [
    "#to print multiplication table of n\n",
    "n=int(input(\"enter the integer value\"))\n",
    "print(f\"MULTIPLE TABLE OF{n}:\")\n",
    "for i in range (1,11):\n",
    "        print(f\"{n} * {i} = {n*i}\")"
   ]
  },
  {
   "cell_type": "markdown",
   "id": "387c63ec-1bab-433d-9de3-78b2313e7711",
   "metadata": {},
   "source": [
    "##### for loop syntax\n",
    "* for element in sequence:\n",
    "* body of for loop"
   ]
  }
 ],
 "metadata": {
  "kernelspec": {
   "display_name": "Python 3 (ipykernel)",
   "language": "python",
   "name": "python3"
  },
  "language_info": {
   "codemirror_mode": {
    "name": "ipython",
    "version": 3
   },
   "file_extension": ".py",
   "mimetype": "text/x-python",
   "name": "python",
   "nbconvert_exporter": "python",
   "pygments_lexer": "ipython3",
   "version": "3.12.7"
  }
 },
 "nbformat": 4,
 "nbformat_minor": 5
}
