{
 "cells": [
  {
   "cell_type": "code",
   "execution_count": 6,
   "id": "218c6dc9-40f8-4fd1-93f5-3272fa9e83b0",
   "metadata": {},
   "outputs": [
    {
     "name": "stdin",
     "output_type": "stream",
     "text": [
      "enter the value of n : 9\n"
     ]
    },
    {
     "name": "stdout",
     "output_type": "stream",
     "text": [
      "Summation is 45\n"
     ]
    }
   ],
   "source": [
    "# write a python programm to print the sum of natural numbers from 1 to n\n",
    "n=int(input('enter the value of n :'))\n",
    "sum=0\n",
    "for i in range(1,n+1):\n",
    "    sum=sum+i\n",
    "print(f\"Summation is {sum}\")"
   ]
  },
  {
   "cell_type": "code",
   "execution_count": 9,
   "id": "9bbae9f8-2a35-4247-b50d-a0673bc3bffc",
   "metadata": {},
   "outputs": [
    {
     "name": "stdin",
     "output_type": "stream",
     "text": [
      "enter the vlaue : 9\n"
     ]
    },
    {
     "name": "stdout",
     "output_type": "stream",
     "text": [
      "factorial is 362880\n"
     ]
    }
   ],
   "source": [
    "#write a python program to find to factorial of n\n",
    "n=int(input('enter the vlaue :'))\n",
    "fact=1\n",
    "for i in range(1,n+1):\n",
    "    fact=fact*i\n",
    "print(f\"factorial is {fact}\")"
   ]
  },
  {
   "cell_type": "code",
   "execution_count": 12,
   "id": "1f867ad6-d7e7-46b1-ae57-93dcf1abe651",
   "metadata": {},
   "outputs": [
    {
     "name": "stdin",
     "output_type": "stream",
     "text": [
      "enter the valueo of n : 9408715\n"
     ]
    },
    {
     "name": "stdout",
     "output_type": "stream",
     "text": [
      "digit count is 7\n"
     ]
    }
   ],
   "source": [
    "#write a python programm and print the count of digts present in the user enter number\n",
    "n=int(input('enter the valueo of n :'))\n",
    "digit_count=0\n",
    "while(n!=0):\n",
    "    n=n//10\n",
    "    digit_count+=1\n",
    "print(f\"digit count is {digit_count}\")"
   ]
  },
  {
   "cell_type": "code",
   "execution_count": 15,
   "id": "47781137-303f-4a2d-a866-795a91699b12",
   "metadata": {},
   "outputs": [
    {
     "name": "stdin",
     "output_type": "stream",
     "text": [
      "enter the valueo of n : 987654321\n"
     ]
    },
    {
     "name": "stdout",
     "output_type": "stream",
     "text": [
      "even digit count is4\n",
      "odd digit count is5\n"
     ]
    }
   ],
   "source": [
    "#write a python program to print the even digit to count of even digits and odd digits present inthe user enter number\n",
    "n=int(input('enter the valueo of n :'))\n",
    "even,odd,rem=0,0,0\n",
    "while(n!=0):\n",
    "    rem=n%10\n",
    "    if rem%2==0:\n",
    "        even+=1\n",
    "    else:\n",
    "        odd+=1\n",
    "    n=n//10\n",
    "print(f\"even digit count is{even}\")\n",
    "print(f\"odd digit count is{odd}\")"
   ]
  },
  {
   "cell_type": "code",
   "execution_count": 21,
   "id": "b1be0dc8-6fd4-40d8-99de-fee731aa53fd",
   "metadata": {},
   "outputs": [
    {
     "name": "stdin",
     "output_type": "stream",
     "text": [
      "enter the valueo of n : 987654321\n"
     ]
    },
    {
     "name": "stdout",
     "output_type": "stream",
     "text": [
      "user entered number is987654321\n",
      "reversed number is 123456789\n"
     ]
    }
   ],
   "source": [
    "# Write Python program to read an integer as input from the user and print the reverse of it\n",
    "n=int(input('enter the valueo of n :'))\n",
    "rem,rev=0,0\n",
    "print(f\"user entered number is{n}\")\n",
    "while(n!=0):\n",
    "    rem=n%10\n",
    "    rev=rev*10+rem\n",
    "    n=n//10\n",
    "print(f\"reversed number is {rev}\")"
   ]
  },
  {
   "cell_type": "code",
   "execution_count": 25,
   "id": "cd313081-08b5-48c4-add7-b8a7859f232f",
   "metadata": {},
   "outputs": [
    {
     "name": "stdin",
     "output_type": "stream",
     "text": [
      "enter the valueo of n : 121\n"
     ]
    },
    {
     "name": "stdout",
     "output_type": "stream",
     "text": [
      "user entered number is 121\n",
      "reversed number is 1\n",
      "not a palindrom\n",
      "reversed number is 12\n",
      "not a palindrom\n",
      "reversed number is 121\n",
      "palindrome\n"
     ]
    }
   ],
   "source": [
    "# to check the user enter integer is the palindrom number or not\n",
    "n=int(input('enter the valueo of n :'))\n",
    "rem,rev=0,0\n",
    "temp=n\n",
    "print(f\"user entered number is {n}\")\n",
    "while(n!=0):\n",
    "    rem=n%10\n",
    "    rev=rev*10+rem\n",
    "    n=n//10\n",
    "    print(f\"reversed number is {rev}\")\n",
    "    if(temp==rev):\n",
    "        print(\"palindrome\")\n",
    "    else:\n",
    "        print(\"not a palindrom\")"
   ]
  },
  {
   "cell_type": "code",
   "execution_count": 27,
   "id": "f1a635fb-5a1d-49b8-bbaf-49bd68ab4188",
   "metadata": {},
   "outputs": [
    {
     "name": "stdout",
     "output_type": "stream",
     "text": [
      "[10, 20, 30, 40, 50] <class 'list'>\n",
      "acessing the list elements using +ve indexing numbers :\n",
      "10\n",
      "20\n",
      "30\n",
      "40\n",
      "50\n",
      "acessing the list elements using -ve indexing numbers :\n",
      "10\n",
      "20\n",
      "30\n",
      "40\n",
      "50\n"
     ]
    }
   ],
   "source": [
    "#    -5,-4,-3,-2,-1\n",
    "num=[10,20,30,40,50]\n",
    "#     0, 1, 2, 3, 4 \n",
    "print(num,type(num))\n",
    "print(\"acessing the list elements using +ve indexing numbers :\")\n",
    "print(num[0])\n",
    "print(num[1])\n",
    "print(num[2])\n",
    "print(num[3])\n",
    "print(num[4])\n",
    "print(\"acessing the list elements using -ve indexing numbers :\")\n",
    "print(num[-5])\n",
    "print(num[-4])\n",
    "print(num[-3])\n",
    "print(num[-2])\n",
    "print(num[-1])\n"
   ]
  },
  {
   "cell_type": "code",
   "execution_count": 32,
   "id": "7fa7ffcf-0802-48d7-8aed-414682b53525",
   "metadata": {},
   "outputs": [
    {
     "name": "stdout",
     "output_type": "stream",
     "text": [
      "['java', 'c', 'html', 'javascript', 'golang']\n",
      "['java', 'python', 'c', 'c++', 'html', 'css', 'javascript', 'dart', 'golang']\n",
      "['golang', 'dart', 'javascript', 'css', 'html', 'c++', 'c', 'python', 'java']\n",
      "['golang', 'javascript', 'html', 'c', 'java']\n"
     ]
    }
   ],
   "source": [
    "'''\n",
    "[start]\n",
    "[start:stop]\n",
    "[start:stop:stepsize]\n",
    "'''\n",
    "\n",
    "lang=['java','python','c','c++','html','css','javascript','dart','golang']\n",
    "\n",
    "print(lang[::2])\n",
    "print(lang[::])\n",
    "print(lang[::-1])\n",
    "print(lang[::-2])"
   ]
  },
  {
   "cell_type": "code",
   "execution_count": 35,
   "id": "fb6969be-d03c-4dbf-a077-2ed19d158eef",
   "metadata": {},
   "outputs": [
    {
     "name": "stdout",
     "output_type": "stream",
     "text": [
      "black\n",
      "blue\n",
      "green\n",
      "red\n",
      "yellow\n",
      "pink\n",
      "\n",
      "black\n",
      "blue\n",
      "green\n",
      "red\n",
      "yellow\n",
      "pink\n"
     ]
    }
   ],
   "source": [
    "list=['black','blue','green','red','yellow','pink']\n",
    "for elements in list:\n",
    "    print(elements)\n",
    "i=0\n",
    "print()\n",
    "while(i<len(list)):\n",
    "    print(list[i])\n",
    "    i+=1"
   ]
  },
  {
   "cell_type": "code",
   "execution_count": 44,
   "id": "831aed63-2798-4bdd-a9c5-692987a0a68c",
   "metadata": {},
   "outputs": [
    {
     "name": "stdout",
     "output_type": "stream",
     "text": [
      "['cse', 'ece', 'eee', 'civil', 'mech']\n",
      "after deletion operation :\n",
      "['cse', 'ece', 'eee', 'civil']\n"
     ]
    }
   ],
   "source": [
    "branch=['cse','ece','eee','civil','mech']\n",
    "print(branch)\n",
    "del branch[4]\n",
    "print(\"after deletion operation :\")\n",
    "print(branch)\n",
    "\n",
    "\n"
   ]
  },
  {
   "cell_type": "code",
   "execution_count": 50,
   "id": "0e56c382-aced-4817-b297-fb941d353ad5",
   "metadata": {},
   "outputs": [
    {
     "name": "stdout",
     "output_type": "stream",
     "text": [
      "original list : [50, 40, 30, 20, 10]\n",
      "length of list : 5\n",
      "maxmimun of the list : 50\n",
      "minimum of the list : 10\n",
      "sorted list : [10, 20, 30, 40, 50]\n",
      "True\n",
      "True\n"
     ]
    }
   ],
   "source": [
    "list=[50,40,30,20,10]\n",
    "print(f\"original list : {list}\")\n",
    "print(f\"length of list : {len(list)}\")\n",
    "print(f\"maxmimun of the list : {max(list)}\")\n",
    "print(f\"minimum of the list : {min(list)}\")\n",
    "print(f\"sorted list : {sorted(list)}\")\n",
    "print(any(list))\n",
    "print(all(list))"
   ]
  },
  {
   "cell_type": "markdown",
   "id": "923e3a55-e7bd-4fb6-959b-6cae733c84a1",
   "metadata": {},
   "source": [
    "### append"
   ]
  },
  {
   "cell_type": "code",
   "execution_count": 51,
   "id": "b0911260-7308-436c-9b51-dd2c5253b9fc",
   "metadata": {},
   "outputs": [
    {
     "name": "stdout",
     "output_type": "stream",
     "text": [
      "[10, 20, 30]\n",
      "[10, 20, 30, 50]\n",
      "[10, 20, 30, 50, 70]\n"
     ]
    }
   ],
   "source": [
    "list=[10,20,30]\n",
    "print(list)\n",
    "list.append(50)\n",
    "print(list)\n",
    "list.append(70)\n",
    "print(list)"
   ]
  },
  {
   "cell_type": "markdown",
   "id": "182db233-253a-4f14-a959-2b04cbbb39dc",
   "metadata": {},
   "source": [
    "### insert"
   ]
  },
  {
   "cell_type": "code",
   "execution_count": 52,
   "id": "50314cea-7414-4ea8-bfc6-e69d17f29e88",
   "metadata": {},
   "outputs": [
    {
     "name": "stdout",
     "output_type": "stream",
     "text": [
      "[10, 20, 30]\n",
      "[5, 10, 20, 30]\n",
      "[5, 10, 20, 30, 40]\n"
     ]
    }
   ],
   "source": [
    "list=[10,20,30]\n",
    "print(list)\n",
    "list.insert(0,5)\n",
    "print(list)\n",
    "list.insert(4,40)\n",
    "print(list)"
   ]
  },
  {
   "cell_type": "markdown",
   "id": "a9a3babc-e4e3-458d-aada-658f777eeb4a",
   "metadata": {},
   "source": [
    "### pop"
   ]
  },
  {
   "cell_type": "code",
   "execution_count": 54,
   "id": "7bb54110-4f74-481f-b7c0-52fd7e562e24",
   "metadata": {},
   "outputs": [
    {
     "name": "stdout",
     "output_type": "stream",
     "text": [
      "[10, 20, 30, 40, 50]\n",
      "[10, 20, 30, 40]\n",
      "[20, 30, 40]\n"
     ]
    }
   ],
   "source": [
    "list=[10,20,30,40,50]\n",
    "print(list)\n",
    "list.pop()\n",
    "print(list)\n",
    "list.pop(0)\n",
    "print(list)"
   ]
  },
  {
   "cell_type": "markdown",
   "id": "327342a2-26df-4f62-a083-4a7763028040",
   "metadata": {},
   "source": [
    "#### removed\n"
   ]
  },
  {
   "cell_type": "code",
   "execution_count": 58,
   "id": "3bb9925d-608f-4276-8a6f-aabc7af65c98",
   "metadata": {},
   "outputs": [
    {
     "name": "stdout",
     "output_type": "stream",
     "text": [
      "[10, 20, 10, 40, 50, 10]\n",
      "[20, 10, 40, 50, 10]\n",
      "[20, 40, 50, 10]\n",
      "[20, 40, 50]\n"
     ]
    }
   ],
   "source": [
    "list=[10,20,10,40,50,10]\n",
    "print(list)\n",
    "list.remove(10)\n",
    "print(list)\n",
    "list.remove(10)\n",
    "print(list)\n",
    "list.remove(10)\n",
    "print(list)"
   ]
  },
  {
   "cell_type": "markdown",
   "id": "1aa7176d-a277-425b-9586-8a143dd100f7",
   "metadata": {},
   "source": [
    "### reverse"
   ]
  },
  {
   "cell_type": "code",
   "execution_count": 61,
   "id": "1445202b-dc2c-4903-93a3-c85769af65c2",
   "metadata": {},
   "outputs": [
    {
     "name": "stdout",
     "output_type": "stream",
     "text": [
      "[10, 50, 40, 10, 20, 10]\n"
     ]
    }
   ],
   "source": [
    "list=[10,20,10,40,50,10]\n",
    "list.reverse()\n",
    "print(list)"
   ]
  },
  {
   "cell_type": "markdown",
   "id": "9914acbc-bb64-41d4-9446-38cf808c8ea2",
   "metadata": {},
   "source": [
    "### sort"
   ]
  },
  {
   "cell_type": "code",
   "execution_count": 62,
   "id": "ba715ceb-b5e0-474e-b688-23e09af07914",
   "metadata": {},
   "outputs": [
    {
     "name": "stdout",
     "output_type": "stream",
     "text": [
      "[10, 10, 10, 20, 40, 50]\n"
     ]
    }
   ],
   "source": [
    "list=[10,20,10,40,50,10]\n",
    "list.sort()\n",
    "print(list)"
   ]
  },
  {
   "cell_type": "markdown",
   "id": "fe88e0bb-9db0-46e8-96d0-b1d14e8fdefc",
   "metadata": {},
   "source": [
    "### extend"
   ]
  },
  {
   "cell_type": "code",
   "execution_count": 63,
   "id": "9fe8f93b-7df8-4f65-91a8-89c745465c88",
   "metadata": {},
   "outputs": [
    {
     "name": "stdout",
     "output_type": "stream",
     "text": [
      "[12, 24, 36, 48, 60, 72]\n"
     ]
    }
   ],
   "source": [
    "a=[12,24,36]\n",
    "b=[48,60,72]\n",
    "a.extend(b)\n",
    "print(a)"
   ]
  },
  {
   "cell_type": "code",
   "execution_count": 64,
   "id": "6e1715ac-7d3b-4b13-a5cf-580b8e9a7176",
   "metadata": {},
   "outputs": [
    {
     "name": "stdout",
     "output_type": "stream",
     "text": [
      "[12, 24, 36, 12, 24, 36, 12, 24, 36]\n",
      "[12, 24, 36, 12, 24, 36, 12, 24, 36, 12, 24, 36, 12, 24, 36]\n"
     ]
    }
   ],
   "source": [
    "a=[12,24,36]\n",
    "b=[48,60,72]\n",
    "# concatenation\n",
    "print(a+a+a)\n",
    "# repetition\n",
    "print(a*5)"
   ]
  },
  {
   "cell_type": "code",
   "execution_count": 66,
   "id": "e395aedd-f1e8-424f-b974-ab8411f9a81d",
   "metadata": {},
   "outputs": [
    {
     "name": "stdin",
     "output_type": "stream",
     "text": [
      "enter the valueo of n : 9\n"
     ]
    },
    {
     "name": "stdout",
     "output_type": "stream",
     "text": [
      "1\n",
      "4\n",
      "9\n",
      "16\n",
      "25\n",
      "36\n",
      "49\n",
      "64\n",
      "81\n"
     ]
    }
   ],
   "source": [
    "# Write a Python program to print the square values of 1 to n using a for loop and a while loop?\n",
    "n=int(input('enter the valueo of n :'))\n",
    "for i in range(1,n+1):\n",
    "    print(i**2)"
   ]
  },
  {
   "cell_type": "code",
   "execution_count": null,
   "id": "fa387d3e-cbba-4e30-9f99-da3d96c0dd45",
   "metadata": {},
   "outputs": [],
   "source": [
    "n=int(input('enter the valueo of n :'))\n",
    "i=1\n",
    "while(i<=n):\n",
    "    print(i**2)\n",
    "    i+=1"
   ]
  },
  {
   "cell_type": "code",
   "execution_count": 9,
   "id": "e766d947-a621-4503-8c62-b3cf4fbd9725",
   "metadata": {},
   "outputs": [
    {
     "name": "stdin",
     "output_type": "stream",
     "text": [
      "enter the first value: 5\n",
      "enter the second value : 5\n"
     ]
    },
    {
     "name": "stdout",
     "output_type": "stream",
     "text": [
      "______operations menu______\n",
      "1.addition\n",
      "2.subtraction\n",
      "3.multiplication\n",
      "4.division\n",
      "5.exit\n"
     ]
    },
    {
     "name": "stdin",
     "output_type": "stream",
     "text": [
      "enter the choice : 3\n"
     ]
    },
    {
     "name": "stdout",
     "output_type": "stream",
     "text": [
      "product of 5,5 is 25\n",
      "______operations menu______\n",
      "1.addition\n",
      "2.subtraction\n",
      "3.multiplication\n",
      "4.division\n",
      "5.exit\n"
     ]
    },
    {
     "name": "stdin",
     "output_type": "stream",
     "text": [
      "enter the choice : 5\n"
     ]
    },
    {
     "name": "stdout",
     "output_type": "stream",
     "text": [
      "thanks for using the operations menu\n"
     ]
    }
   ],
   "source": [
    "# Write a Python program to read two integer values as input from the user and perform the arithmetic operation based on the following conditions\n",
    "a=int(input('enter the first value:'))\n",
    "b=int(input('enter the second value :'))\n",
    "while(True):\n",
    "    print(\"______operations menu______\")\n",
    "    print(\"1.addition\")\n",
    "    print(\"2.subtraction\")\n",
    "    print(\"3.multiplication\")\n",
    "    print(\"4.division\")\n",
    "    print(\"5.exit\")\n",
    "    choice=int(input(\"enter the choice :\"))\n",
    "    if (choice==1):\n",
    "        print(f\"summation of {a},{b} is {a-b}\")\n",
    "    elif(choice==2):\n",
    "        print(f\"difference of {a},{b} is {a-b}\")\n",
    "    elif(choice==3):\n",
    "        print(f\"product of {a},{b} is {a*b}\")\n",
    "    elif(choice==4):\n",
    "        print(f\"division of {a},{b} is {a/b}\")\n",
    "    elif(choice==5):\n",
    "        print(\"thanks for using the operations menu\")\n",
    "        break\n",
    "        \n",
    "        "
   ]
  },
  {
   "cell_type": "code",
   "execution_count": 7,
   "id": "477c5c8d-4062-4720-8e21-492506316f07",
   "metadata": {},
   "outputs": [
    {
     "name": "stdout",
     "output_type": "stream",
     "text": [
      "True\n",
      "False\n",
      "False\n",
      "True\n"
     ]
    }
   ],
   "source": [
    "num=[10,20,30,40,50]\n",
    "print(10 in num)\n",
    "print(10 not in num)\n",
    "print(60 in num)\n",
    "str=\"python\"\n",
    "print(\"py\" in str)"
   ]
  },
  {
   "cell_type": "code",
   "execution_count": 15,
   "id": "24ac0552-2081-4986-a501-6ab7eddac8a2",
   "metadata": {},
   "outputs": [
    {
     "name": "stdout",
     "output_type": "stream",
     "text": [
      "_____guest menu_____\n",
      "1.to view the guest list\n",
      "2.to add a guest\n",
      "3.check the guest is attending the party or not\n",
      "4.to remove a guest\n",
      "5.print finilized guest list\n"
     ]
    },
    {
     "name": "stdin",
     "output_type": "stream",
     "text": [
      "enter the choice: 1\n"
     ]
    },
    {
     "name": "stdout",
     "output_type": "stream",
     "text": [
      "guest list is empty\n",
      "\n",
      "_____guest menu_____\n",
      "1.to view the guest list\n",
      "2.to add a guest\n",
      "3.check the guest is attending the party or not\n",
      "4.to remove a guest\n",
      "5.print finilized guest list\n"
     ]
    },
    {
     "name": "stdin",
     "output_type": "stream",
     "text": [
      "enter the choice: 2\n",
      "enter the guest name : ganesh\n"
     ]
    },
    {
     "name": "stdout",
     "output_type": "stream",
     "text": [
      "ganesh is added to the guest list......! \n",
      "\n",
      "_____guest menu_____\n",
      "1.to view the guest list\n",
      "2.to add a guest\n",
      "3.check the guest is attending the party or not\n",
      "4.to remove a guest\n",
      "5.print finilized guest list\n"
     ]
    },
    {
     "name": "stdin",
     "output_type": "stream",
     "text": [
      "enter the choice: ganesh\n"
     ]
    },
    {
     "ename": "ValueError",
     "evalue": "invalid literal for int() with base 10: 'ganesh'",
     "output_type": "error",
     "traceback": [
      "\u001b[1;31m---------------------------------------------------------------------------\u001b[0m",
      "\u001b[1;31mValueError\u001b[0m                                Traceback (most recent call last)",
      "Cell \u001b[1;32mIn[15], line 17\u001b[0m\n\u001b[0;32m     15\u001b[0m \u001b[38;5;28mprint\u001b[39m(\u001b[38;5;124m\"\u001b[39m\u001b[38;5;124m4.to remove a guest\u001b[39m\u001b[38;5;124m\"\u001b[39m)\n\u001b[0;32m     16\u001b[0m \u001b[38;5;28mprint\u001b[39m(\u001b[38;5;124m\"\u001b[39m\u001b[38;5;124m5.print finilized guest list\u001b[39m\u001b[38;5;124m\"\u001b[39m)\n\u001b[1;32m---> 17\u001b[0m choice\u001b[38;5;241m=\u001b[39m\u001b[38;5;28mint\u001b[39m(\u001b[38;5;28minput\u001b[39m(\u001b[38;5;124m'\u001b[39m\u001b[38;5;124menter the choice:\u001b[39m\u001b[38;5;124m'\u001b[39m))\n\u001b[0;32m     18\u001b[0m \u001b[38;5;28;01mif\u001b[39;00m(choice\u001b[38;5;241m==\u001b[39m\u001b[38;5;241m1\u001b[39m):\n\u001b[0;32m     19\u001b[0m     \u001b[38;5;28;01mif\u001b[39;00m(\u001b[38;5;28mlen\u001b[39m(guest_list)\u001b[38;5;241m==\u001b[39m\u001b[38;5;241m0\u001b[39m):\n",
      "\u001b[1;31mValueError\u001b[0m: invalid literal for int() with base 10: 'ganesh'"
     ]
    }
   ],
   "source": [
    "# scenario --------->  your friend is throwing a birthday party, and he is confused about finalizing the guest list for the birthday party. Write a simple program to organise the guest list where \n",
    "#1.to view the guest list\n",
    "#2. to add the guest\n",
    "#3. to check whether the particular guest is attending the party\n",
    "#4. Remove a guest from the guest list\n",
    "#5. to print the finalized guest list & exit\n",
    "\n",
    "\n",
    "guest_list=[]\n",
    "while(True):\n",
    "    print(\"_____guest menu_____\")\n",
    "    print(\"1.to view the guest list\")\n",
    "    print(\"2.to add a guest\")\n",
    "    print(\"3.check the guest is attending the party or not\")\n",
    "    print(\"4.to remove a guest\")\n",
    "    print(\"5.print finilized guest list\")\n",
    "    choice=int(input('enter the choice:'))\n",
    "    if(choice==1):\n",
    "        if(len(guest_list)==0):\n",
    "            print(\"guest list is empty\")\n",
    "        else:\n",
    "            print(\"guest list :\")\n",
    "            print(guest_list)\n",
    "        print()\n",
    "    elif(choice==2):\n",
    "        guest=input(\"enter the guest name :\") \n",
    "        guest_list.append(guest)\n",
    "        print(f\"{guest} is added to the guest list......! \")\n",
    "        print()\n",
    "    elif(choice==3):\n",
    "         guest=input(\"enter the guest name to check status:\")\n",
    "         if guest in guest_list:\n",
    "             print(f\"{guest} is attending the party.....!\")\n",
    "         else:\n",
    "             print(f\"{guest} is not attending the party...!\")\n",
    "             print()\n",
    "    elif(choice==4):\n",
    "         print(\"finalized  guestlist:\")\n",
    "         print()\n",
    "         print(guest_list)\n",
    "         break\n",
    "\n",
    "        "
   ]
  },
  {
   "cell_type": "code",
   "execution_count": null,
   "id": "32eb7e23-cd4c-4f9f-b945-e1b280aa6780",
   "metadata": {},
   "outputs": [],
   "source": []
  }
 ],
 "metadata": {
  "kernelspec": {
   "display_name": "Python 3 (ipykernel)",
   "language": "python",
   "name": "python3"
  },
  "language_info": {
   "codemirror_mode": {
    "name": "ipython",
    "version": 3
   },
   "file_extension": ".py",
   "mimetype": "text/x-python",
   "name": "python",
   "nbconvert_exporter": "python",
   "pygments_lexer": "ipython3",
   "version": "3.12.7"
  }
 },
 "nbformat": 4,
 "nbformat_minor": 5
}
